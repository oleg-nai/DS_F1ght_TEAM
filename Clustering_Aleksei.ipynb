{
 "cells": [
  {
   "cell_type": "code",
   "execution_count": 12,
   "id": "b2f92f78",
   "metadata": {},
   "outputs": [],
   "source": [
    "import numpy as np\n",
    "import pandas as pd\n",
    "import matplotlib.pyplot as plt\n",
    "import matplotlib.cm as cm\n",
    "\n",
    "from sklearn.cluster import MiniBatchKMeans\n",
    "from sklearn.feature_extraction.text import TfidfVectorizer\n",
    "from sklearn.decomposition import PCA\n",
    "from sklearn.manifold import TSNE"
   ]
  },
  {
   "cell_type": "code",
   "execution_count": 4,
   "id": "10a9f62d",
   "metadata": {},
   "outputs": [],
   "source": [
    "df = pd.read_csv('data/title_abstract.csv')"
   ]
  },
  {
   "cell_type": "code",
   "execution_count": 27,
   "id": "10be61e9",
   "metadata": {},
   "outputs": [
    {
     "data": {
      "text/html": [
       "<div>\n",
       "<style scoped>\n",
       "    .dataframe tbody tr th:only-of-type {\n",
       "        vertical-align: middle;\n",
       "    }\n",
       "\n",
       "    .dataframe tbody tr th {\n",
       "        vertical-align: top;\n",
       "    }\n",
       "\n",
       "    .dataframe thead th {\n",
       "        text-align: right;\n",
       "    }\n",
       "</style>\n",
       "<table border=\"1\" class=\"dataframe\">\n",
       "  <thead>\n",
       "    <tr style=\"text-align: right;\">\n",
       "      <th></th>\n",
       "      <th>Unnamed: 0</th>\n",
       "      <th>title</th>\n",
       "      <th>abstract</th>\n",
       "    </tr>\n",
       "  </thead>\n",
       "  <tbody>\n",
       "    <tr>\n",
       "      <th>299996</th>\n",
       "      <td>299996</td>\n",
       "      <td>Distributed Web2.0 crawling for ontology evolu...</td>\n",
       "      <td>NaN</td>\n",
       "    </tr>\n",
       "    <tr>\n",
       "      <th>299997</th>\n",
       "      <td>299997</td>\n",
       "      <td>Human activity modeling by spatio temporal tex...</td>\n",
       "      <td>We propose to model the human activity in spac...</td>\n",
       "    </tr>\n",
       "    <tr>\n",
       "      <th>299998</th>\n",
       "      <td>299998</td>\n",
       "      <td>Usable verification of object-oriented program...</td>\n",
       "      <td>With formal techniques becoming more and more ...</td>\n",
       "    </tr>\n",
       "    <tr>\n",
       "      <th>299999</th>\n",
       "      <td>299999</td>\n",
       "      <td>Utilisation de SysML pour la modélisation des ...</td>\n",
       "      <td>NaN</td>\n",
       "    </tr>\n",
       "    <tr>\n",
       "      <th>300000</th>\n",
       "      <td>300000</td>\n",
       "      <td>Putting the users center stage: role playing a...</td>\n",
       "      <td>This paper sums up lessons learned from a sequ...</td>\n",
       "    </tr>\n",
       "  </tbody>\n",
       "</table>\n",
       "</div>"
      ],
      "text/plain": [
       "        Unnamed: 0                                              title  \\\n",
       "299996      299996  Distributed Web2.0 crawling for ontology evolu...   \n",
       "299997      299997  Human activity modeling by spatio temporal tex...   \n",
       "299998      299998  Usable verification of object-oriented program...   \n",
       "299999      299999  Utilisation de SysML pour la modélisation des ...   \n",
       "300000      300000  Putting the users center stage: role playing a...   \n",
       "\n",
       "                                                 abstract  \n",
       "299996                                                NaN  \n",
       "299997  We propose to model the human activity in spac...  \n",
       "299998  With formal techniques becoming more and more ...  \n",
       "299999                                                NaN  \n",
       "300000  This paper sums up lessons learned from a sequ...  "
      ]
     },
     "execution_count": 27,
     "metadata": {},
     "output_type": "execute_result"
    }
   ],
   "source": [
    "df.tail()"
   ]
  },
  {
   "cell_type": "code",
   "execution_count": 34,
   "id": "78cbcb4e",
   "metadata": {},
   "outputs": [],
   "source": [
    "df=df[:10000]"
   ]
  },
  {
   "cell_type": "code",
   "execution_count": 40,
   "id": "914c4f73",
   "metadata": {},
   "outputs": [],
   "source": [
    "tfidf = TfidfVectorizer(\n",
    "    min_df = 5,\n",
    "    max_df = 0.95,\n",
    "    max_features = 8000,\n",
    "    stop_words = 'english'\n",
    ")\n",
    "tfidf.fit(df['abstract'].values.astype('U'))\n",
    "text = tfidf.transform(df['abstract'].values.astype('U'))"
   ]
  },
  {
   "cell_type": "code",
   "execution_count": 41,
   "id": "6075990f",
   "metadata": {},
   "outputs": [
    {
     "name": "stdout",
     "output_type": "stream",
     "text": [
      "Fit 2 clusters\n",
      "Fit 4 clusters\n",
      "Fit 6 clusters\n",
      "Fit 8 clusters\n",
      "Fit 10 clusters\n",
      "Fit 12 clusters\n",
      "Fit 14 clusters\n",
      "Fit 16 clusters\n",
      "Fit 18 clusters\n",
      "Fit 20 clusters\n"
     ]
    },
    {
     "data": {
      "image/png": "[encoded data removed]",
      "text/plain": [
       "<Figure size 432x288 with 1 Axes>"
      ]
     },
     "metadata": {
      "needs_background": "light"
     },
     "output_type": "display_data"
    }
   ],
   "source": [
    "def find_optimal_clusters(data, max_k):\n",
    "    iters = range(2, max_k+1, 2)\n",
    "    \n",
    "    sse = []\n",
    "    for k in iters:\n",
    "        sse.append(MiniBatchKMeans(n_clusters=k, init_size=1024, batch_size=2048, random_state=20).fit(data).inertia_)\n",
    "        print('Fit {} clusters'.format(k))\n",
    "        \n",
    "    f, ax = plt.subplots(1, 1)\n",
    "    ax.plot(iters, sse, marker='o')\n",
    "    ax.set_xlabel('Cluster Centers')\n",
    "    ax.set_xticks(iters)\n",
    "    ax.set_xticklabels(iters)\n",
    "    ax.set_ylabel('SSE')\n",
    "    ax.set_title('SSE by Cluster Center Plot')\n",
    "    \n",
    "find_optimal_clusters(text, 20)"
   ]
  },
  {
   "cell_type": "code",
   "execution_count": 42,
   "id": "bdf813b8",
   "metadata": {},
   "outputs": [],
   "source": [
    "clusters = MiniBatchKMeans(n_clusters=14, init_size=1024, batch_size=2048, random_state=20).fit_predict(text)"
   ]
  },
  {
   "cell_type": "code",
   "execution_count": 43,
   "id": "934e5d75",
   "metadata": {},
   "outputs": [
    {
     "data": {
      "image/png": "[encoded data removed]",
      "text/plain": [
       "<Figure size 1008x432 with 2 Axes>"
      ]
     },
     "metadata": {
      "needs_background": "light"
     },
     "output_type": "display_data"
    }
   ],
   "source": [
    "def plot_tsne_pca(data, labels):\n",
    "    max_label = max(labels)\n",
    "    max_items = np.random.choice(range(data.shape[0]), size=3000, replace=False)\n",
    "    \n",
    "    pca = PCA(n_components=2).fit_transform(data[max_items,:].todense())\n",
    "    tsne = TSNE().fit_transform(PCA(n_components=50).fit_transform(data[max_items,:].todense()))\n",
    "    \n",
    "    \n",
    "    idx = np.random.choice(range(pca.shape[0]), size=300, replace=False)\n",
    "    label_subset = labels[max_items]\n",
    "    label_subset = [cm.hsv(i/max_label) for i in label_subset[idx]]\n",
    "    \n",
    "    f, ax = plt.subplots(1, 2, figsize=(14, 6))\n",
    "    \n",
    "    ax[0].scatter(pca[idx, 0], pca[idx, 1], c=label_subset)\n",
    "    ax[0].set_title('PCA Cluster Plot')\n",
    "    \n",
    "    ax[1].scatter(tsne[idx, 0], tsne[idx, 1], c=label_subset)\n",
    "    ax[1].set_title('TSNE Cluster Plot')\n",
    "    \n",
    "plot_tsne_pca(text, clusters)"
   ]
  },
  {
   "cell_type": "code",
   "execution_count": 44,
   "id": "403fa58b",
   "metadata": {},
   "outputs": [
    {
     "name": "stdout",
     "output_type": "stream",
     "text": [
      "\n",
      "Cluster 0\n",
      "equal,equally,equation,equational,equations,equilibrium,equipment,equipped,über,nan\n",
      "\n",
      "Cluster 1\n",
      "sound,learning,year,short,animation,book,music,research,work,film\n",
      "\n",
      "Cluster 2\n",
      "equational,equations,equilibrium,equipment,equipped,equivalence,environmental,über,article,page\n",
      "\n",
      "Cluster 3\n",
      "different,sounds,universe,years,zero,group,column,discover,small,island\n",
      "\n",
      "Cluster 4\n",
      "values,shared,number,lines,open,source,resources,computing,balance,grid\n",
      "\n",
      "Cluster 5\n",
      "carry,depends,publications,assistance,items,fresh,dr,farkas,forthcoming,editor\n",
      "\n",
      "Cluster 6\n",
      "www,http,computer,society,engineering,systems,international,ieee,conference,software\n",
      "\n",
      "Cluster 7\n",
      "science,ieee,computer,held,systems,conference,section,issue,special,papers\n",
      "\n",
      "Cluster 8\n",
      "researchers,message,welcome,practitioners,listing,provides,proceedings,events,upcoming,conference\n",
      "\n",
      "Cluster 9\n",
      "world,used,systems,using,based,information,time,new,data,paper\n",
      "\n",
      "Cluster 10\n",
      "equational,equations,equilibrium,equipment,equipped,equivalence,environment,über,zusammenfassung,ohne\n",
      "\n",
      "Cluster 11\n",
      "mit,für,den,das,ist,zu,von,und,der,die\n",
      "\n",
      "Cluster 12\n",
      "paper,theorem,sets,systems,graph,logic,notion,properties,theory,fuzzy\n",
      "\n",
      "Cluster 13\n",
      "equipment,equipped,equivalence,equivalent,era,equally,über,copyright,available,abstract\n"
     ]
    }
   ],
   "source": [
    "def get_top_keywords(data, clusters, labels, n_terms):\n",
    "    df = pd.DataFrame(data.todense()).groupby(clusters).mean()\n",
    "    \n",
    "    for i,r in df.iterrows():\n",
    "        print('\\nCluster {}'.format(i))\n",
    "        print(','.join([labels[t] for t in np.argsort(r)[-n_terms:]]))\n",
    "            \n",
    "get_top_keywords(text, clusters, tfidf.get_feature_names(), 10)"
   ]
  },
  {
   "cell_type": "code",
   "execution_count": null,
   "id": "6300b17b",
   "metadata": {},
   "outputs": [],
   "source": []
  },
  {
   "cell_type": "code",
   "execution_count": null,
   "id": "7d75e80e",
   "metadata": {},
   "outputs": [],
   "source": []
  }
 ],
 "metadata": {
  "kernelspec": {
   "display_name": "Python 3 (ipykernel)",
   "language": "python",
   "name": "python3"
  },
  "language_info": {
   "codemirror_mode": {
    "name": "ipython",
    "version": 3
   },
   "file_extension": ".py",
   "mimetype": "text/x-python",
   "name": "python",
   "nbconvert_exporter": "python",
   "pygments_lexer": "ipython3",
   "version": "3.9.7"
  }
 },
 "nbformat": 4,
 "nbformat_minor": 5
}
