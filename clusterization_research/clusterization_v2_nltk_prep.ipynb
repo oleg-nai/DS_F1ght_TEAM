{
 "cells": [
  {
   "cell_type": "code",
   "execution_count": 1,
   "id": "f6c3a1b5",
   "metadata": {
    "execution": {
     "iopub.execute_input": "2022-10-26T09:47:12.897720Z",
     "iopub.status.busy": "2022-10-26T09:47:12.897027Z",
     "iopub.status.idle": "2022-10-26T09:47:17.379272Z",
     "shell.execute_reply": "2022-10-26T09:47:17.377852Z"
    },
    "papermill": {
     "duration": 4.503136,
     "end_time": "2022-10-26T09:47:17.381947",
     "exception": false,
     "start_time": "2022-10-26T09:47:12.878811",
     "status": "completed"
    },
    "tags": []
   },
   "outputs": [],
   "source": [
    "import pandas as pd\n",
    "df = pd.read_csv('title_abstract.csv')"
   ]
  },
  {
   "cell_type": "code",
   "execution_count": 3,
   "id": "b9b2b623",
   "metadata": {
    "execution": {
     "iopub.execute_input": "2022-10-26T09:47:17.414795Z",
     "iopub.status.busy": "2022-10-26T09:47:17.414323Z",
     "iopub.status.idle": "2022-10-26T09:47:17.442562Z",
     "shell.execute_reply": "2022-10-26T09:47:17.441646Z"
    },
    "papermill": {
     "duration": 0.047246,
     "end_time": "2022-10-26T09:47:17.444953",
     "exception": false,
     "start_time": "2022-10-26T09:47:17.397707",
     "status": "completed"
    },
    "tags": []
   },
   "outputs": [
    {
     "data": {
      "text/html": [
       "<div>\n",
       "<style scoped>\n",
       "    .dataframe tbody tr th:only-of-type {\n",
       "        vertical-align: middle;\n",
       "    }\n",
       "\n",
       "    .dataframe tbody tr th {\n",
       "        vertical-align: top;\n",
       "    }\n",
       "\n",
       "    .dataframe thead th {\n",
       "        text-align: right;\n",
       "    }\n",
       "</style>\n",
       "<table border=\"1\" class=\"dataframe\">\n",
       "  <thead>\n",
       "    <tr style=\"text-align: right;\">\n",
       "      <th></th>\n",
       "      <th>Unnamed: 0</th>\n",
       "      <th>title</th>\n",
       "      <th>abstract</th>\n",
       "    </tr>\n",
       "  </thead>\n",
       "  <tbody>\n",
       "    <tr>\n",
       "      <th>0</th>\n",
       "      <td>0</td>\n",
       "      <td>3GIO.</td>\n",
       "      <td>NaN</td>\n",
       "    </tr>\n",
       "    <tr>\n",
       "      <th>1</th>\n",
       "      <td>1</td>\n",
       "      <td>The relationship between canopy parameters and...</td>\n",
       "      <td>Drought is the first place in all the natural ...</td>\n",
       "    </tr>\n",
       "    <tr>\n",
       "      <th>2</th>\n",
       "      <td>2</td>\n",
       "      <td>A solution to the problem of touching and brok...</td>\n",
       "      <td>NaN</td>\n",
       "    </tr>\n",
       "    <tr>\n",
       "      <th>3</th>\n",
       "      <td>3</td>\n",
       "      <td>Timing yield estimation using statistical stat...</td>\n",
       "      <td>As process variations become a significant pro...</td>\n",
       "    </tr>\n",
       "    <tr>\n",
       "      <th>4</th>\n",
       "      <td>4</td>\n",
       "      <td>360°</td>\n",
       "      <td>360° represents the concerns that are addresse...</td>\n",
       "    </tr>\n",
       "    <tr>\n",
       "      <th>...</th>\n",
       "      <td>...</td>\n",
       "      <td>...</td>\n",
       "      <td>...</td>\n",
       "    </tr>\n",
       "    <tr>\n",
       "      <th>299996</th>\n",
       "      <td>299996</td>\n",
       "      <td>Distributed Web2.0 crawling for ontology evolu...</td>\n",
       "      <td>NaN</td>\n",
       "    </tr>\n",
       "    <tr>\n",
       "      <th>299997</th>\n",
       "      <td>299997</td>\n",
       "      <td>Human activity modeling by spatio temporal tex...</td>\n",
       "      <td>We propose to model the human activity in spac...</td>\n",
       "    </tr>\n",
       "    <tr>\n",
       "      <th>299998</th>\n",
       "      <td>299998</td>\n",
       "      <td>Usable verification of object-oriented program...</td>\n",
       "      <td>With formal techniques becoming more and more ...</td>\n",
       "    </tr>\n",
       "    <tr>\n",
       "      <th>299999</th>\n",
       "      <td>299999</td>\n",
       "      <td>Utilisation de SysML pour la modélisation des ...</td>\n",
       "      <td>NaN</td>\n",
       "    </tr>\n",
       "    <tr>\n",
       "      <th>300000</th>\n",
       "      <td>300000</td>\n",
       "      <td>Putting the users center stage: role playing a...</td>\n",
       "      <td>This paper sums up lessons learned from a sequ...</td>\n",
       "    </tr>\n",
       "  </tbody>\n",
       "</table>\n",
       "<p>300001 rows × 3 columns</p>\n",
       "</div>"
      ],
      "text/plain": [
       "        Unnamed: 0                                              title  \\\n",
       "0                0                                              3GIO.   \n",
       "1                1  The relationship between canopy parameters and...   \n",
       "2                2  A solution to the problem of touching and brok...   \n",
       "3                3  Timing yield estimation using statistical stat...   \n",
       "4                4                                               360°   \n",
       "...            ...                                                ...   \n",
       "299996      299996  Distributed Web2.0 crawling for ontology evolu...   \n",
       "299997      299997  Human activity modeling by spatio temporal tex...   \n",
       "299998      299998  Usable verification of object-oriented program...   \n",
       "299999      299999  Utilisation de SysML pour la modélisation des ...   \n",
       "300000      300000  Putting the users center stage: role playing a...   \n",
       "\n",
       "                                                 abstract  \n",
       "0                                                     NaN  \n",
       "1       Drought is the first place in all the natural ...  \n",
       "2                                                     NaN  \n",
       "3       As process variations become a significant pro...  \n",
       "4       360° represents the concerns that are addresse...  \n",
       "...                                                   ...  \n",
       "299996                                                NaN  \n",
       "299997  We propose to model the human activity in spac...  \n",
       "299998  With formal techniques becoming more and more ...  \n",
       "299999                                                NaN  \n",
       "300000  This paper sums up lessons learned from a sequ...  \n",
       "\n",
       "[300001 rows x 3 columns]"
      ]
     },
     "execution_count": 3,
     "metadata": {},
     "output_type": "execute_result"
    }
   ],
   "source": [
    "df"
   ]
  },
  {
   "cell_type": "code",
   "execution_count": 4,
   "id": "8b45e2d6",
   "metadata": {
    "execution": {
     "iopub.execute_input": "2022-10-26T09:47:17.478558Z",
     "iopub.status.busy": "2022-10-26T09:47:17.478144Z",
     "iopub.status.idle": "2022-10-26T09:47:17.556528Z",
     "shell.execute_reply": "2022-10-26T09:47:17.555550Z"
    },
    "papermill": {
     "duration": 0.09833,
     "end_time": "2022-10-26T09:47:17.559262",
     "exception": false,
     "start_time": "2022-10-26T09:47:17.460932",
     "status": "completed"
    },
    "tags": []
   },
   "outputs": [],
   "source": [
    "df = df.dropna()"
   ]
  },
  {
   "cell_type": "code",
   "execution_count": 5,
   "id": "32f0691d",
   "metadata": {
    "execution": {
     "iopub.execute_input": "2022-10-26T09:47:17.594380Z",
     "iopub.status.busy": "2022-10-26T09:47:17.593988Z",
     "iopub.status.idle": "2022-10-26T09:47:17.599666Z",
     "shell.execute_reply": "2022-10-26T09:47:17.598581Z"
    },
    "papermill": {
     "duration": 0.02635,
     "end_time": "2022-10-26T09:47:17.602044",
     "exception": false,
     "start_time": "2022-10-26T09:47:17.575694",
     "status": "completed"
    },
    "tags": []
   },
   "outputs": [
    {
     "name": "stdout",
     "output_type": "stream",
     "text": [
      "(204837, 3)\n"
     ]
    }
   ],
   "source": [
    "print(df.shape)"
   ]
  },
  {
   "cell_type": "code",
   "execution_count": 6,
   "id": "9358cfa5",
   "metadata": {
    "execution": {
     "iopub.execute_input": "2022-10-26T09:47:17.636786Z",
     "iopub.status.busy": "2022-10-26T09:47:17.636382Z",
     "iopub.status.idle": "2022-10-26T09:47:18.702954Z",
     "shell.execute_reply": "2022-10-26T09:47:18.702051Z"
    },
    "papermill": {
     "duration": 1.088171,
     "end_time": "2022-10-26T09:47:18.706260",
     "exception": false,
     "start_time": "2022-10-26T09:47:17.618089",
     "status": "completed"
    },
    "tags": []
   },
   "outputs": [
    {
     "data": {
      "text/plain": [
       "(204625, 3)"
      ]
     },
     "execution_count": 6,
     "metadata": {},
     "output_type": "execute_result"
    }
   ],
   "source": [
    "#dropping  the duplicates column if any using drop duplicates from pandas\n",
    "sorted_data=df.sort_values('title', axis=0, ascending=True, inplace=False, kind='quicksort', na_position='last')\n",
    "final=sorted_data.drop_duplicates(subset={\"title\",\"abstract\"}, keep='first', inplace=False)\n",
    "final.shape"
   ]
  },
  {
   "cell_type": "code",
   "execution_count": 7,
   "id": "0624507c",
   "metadata": {
    "execution": {
     "iopub.execute_input": "2022-10-26T09:47:18.742878Z",
     "iopub.status.busy": "2022-10-26T09:47:18.742488Z",
     "iopub.status.idle": "2022-10-26T09:47:40.241704Z",
     "shell.execute_reply": "2022-10-26T09:47:40.240449Z"
    },
    "papermill": {
     "duration": 21.520086,
     "end_time": "2022-10-26T09:47:40.244236",
     "exception": false,
     "start_time": "2022-10-26T09:47:18.724150",
     "status": "completed"
    },
    "tags": []
   },
   "outputs": [
    {
     "name": "stdout",
     "output_type": "stream",
     "text": [
      "{'ma', 'if', 'such', 'who', 'y', 'in', \"mightn't\", 'yourselves', 'was', 'her', 'be', 'all', 'been', 'both', 'same', 'at', 'than', \"mustn't\", 'having', 'their', 'but', 'isn', 'under', 'why', 'i', 'after', 'weren', 've', 'wouldn', 'about', 's', 'down', 'don', 'some', 'just', 'no', 'll', 'before', \"doesn't\", 'an', 'of', 'are', 'this', 'further', 'there', 'did', \"hadn't\", \"haven't\", \"you're\", 'he', 'with', \"don't\", \"she's\", 'then', 'hadn', 'off', 'as', 'himself', 'not', 'won', 'because', 'those', 'd', 'hers', \"it's\", 'each', 'them', 'few', 'most', 'other', \"shouldn't\", 'wasn', 'they', \"you've\", 'which', \"wasn't\", 'itself', 'a', 'hasn', 'that', \"that'll\", 'now', 'mustn', 'only', 'or', 'how', \"won't\", 'between', 'am', \"you'd\", 'what', 'doesn', \"shan't\", 'into', 'by', 'nor', 'whom', 'shouldn', 're', 'very', 'myself', 'these', 'ain', \"hasn't\", 'any', 'when', 'too', \"you'll\", 'so', 'again', 'him', 'she', \"needn't\", 'on', 'is', 'during', 'his', 'ours', 'above', 'needn', 'being', 'o', 'until', 'once', \"should've\", 'your', 'm', 'below', 'does', 'more', 'doing', 'you', \"weren't\", 'have', 'yourself', 'own', \"isn't\", 'will', 'theirs', \"aren't\", 'the', 'herself', 'its', 'ourselves', 'over', 'haven', 'me', \"couldn't\", \"didn't\", 'didn', 'it', 'do', 'had', 'while', 'has', 'can', 'were', 't', 'where', 'aren', 'mightn', 'shan', 'and', \"wouldn't\", 'against', 'to', 'out', 'for', 'should', 'through', 'we', 'here', 'my', 'themselves', 'from', 'our', 'couldn', 'up', 'yours'}\n",
      "************************************\n",
      "tasti\n"
     ]
    },
    {
     "name": "stderr",
     "output_type": "stream",
     "text": [
      "[nltk_data] Downloading package stopwords to /Users/oleg-\n",
      "[nltk_data]     nai/nltk_data...\n",
      "[nltk_data]   Package stopwords is already up-to-date!\n"
     ]
    }
   ],
   "source": [
    "import nltk\n",
    "nltk.download('stopwords')\n",
    "from nltk.corpus import stopwords\n",
    "sno = nltk.stem.SnowballStemmer('english') #initialising the snowball stemmer which is developed in recent years\n",
    "stop=set(stopwords.words('english'))\n",
    "\n",
    "\n",
    "\n",
    "def cleanhtml(sentence): #function to clean the word of any html-tags\n",
    "    cleanr = re.compile('<.*?>')\n",
    "    cleantext = re.sub(cleanr, ' ', sentence)\n",
    "    return cleantext\n",
    "def cleanpunc(sentence): #function to clean the word of any punctuation or special characters\n",
    "    cleaned = re.sub(r'[?|!|\\'|\"|#]',r'',sentence)\n",
    "    cleaned = re.sub(r'[.|,|)|(|\\|/]',r' ',cleaned)\n",
    "    return  cleaned\n",
    "print(stop)\n",
    "print('************************************')\n",
    "print(sno.stem('tasty'))"
   ]
  },
  {
   "cell_type": "code",
   "execution_count": 8,
   "id": "c9d58f80",
   "metadata": {
    "execution": {
     "iopub.execute_input": "2022-10-26T09:47:40.278624Z",
     "iopub.status.busy": "2022-10-26T09:47:40.278187Z",
     "iopub.status.idle": "2022-10-26T09:53:19.989281Z",
     "shell.execute_reply": "2022-10-26T09:53:19.988124Z"
    },
    "papermill": {
     "duration": 339.731657,
     "end_time": "2022-10-26T09:53:19.992326",
     "exception": false,
     "start_time": "2022-10-26T09:47:40.260669",
     "status": "completed"
    },
    "tags": []
   },
   "outputs": [
    {
     "name": "stderr",
     "output_type": "stream",
     "text": [
      "/var/folders/1d/1ltz4mh92w75fs8jnyghsh900000gn/T/ipykernel_84520/3628265757.py:28: SettingWithCopyWarning: \n",
      "A value is trying to be set on a copy of a slice from a DataFrame.\n",
      "Try using .loc[row_indexer,col_indexer] = value instead\n",
      "\n",
      "See the caveats in the documentation: https://pandas.pydata.org/pandas-docs/stable/user_guide/indexing.html#returning-a-view-versus-a-copy\n",
      "  final['CleanedAbstract']=final_string #adding a column of CleanedText which displays the data after pre-processing of the review\n",
      "/var/folders/1d/1ltz4mh92w75fs8jnyghsh900000gn/T/ipykernel_84520/3628265757.py:29: SettingWithCopyWarning: \n",
      "A value is trying to be set on a copy of a slice from a DataFrame.\n",
      "Try using .loc[row_indexer,col_indexer] = value instead\n",
      "\n",
      "See the caveats in the documentation: https://pandas.pydata.org/pandas-docs/stable/user_guide/indexing.html#returning-a-view-versus-a-copy\n",
      "  final['CleanedAbstract']=final['CleanedAbstract'].str.decode(\"utf-8\")\n"
     ]
    }
   ],
   "source": [
    "import re\n",
    "i=0\n",
    "str1=' '\n",
    "final_string=[]\n",
    "all_positive_words=[] # store words from +ve reviews here\n",
    "all_negative_words=[] # store words from -ve reviews here.\n",
    "s=''\n",
    "for sent in final['abstract'].values:\n",
    "    filtered_sentence=[]\n",
    "    #print(sent);\n",
    "#     sent=cleanhtml(sent) # remove HTMl tags\n",
    "    for w in sent.split():\n",
    "        for cleaned_words in cleanpunc(w).split():\n",
    "            if((cleaned_words.isalpha()) & (len(cleaned_words)>2)):    \n",
    "                if(cleaned_words.lower() not in stop):\n",
    "                    s=(sno.stem(cleaned_words.lower())).encode('utf8')\n",
    "                    filtered_sentence.append(s)\n",
    "                else:\n",
    "                    continue\n",
    "            else:\n",
    "                continue \n",
    "    #print(filtered_sentence)\n",
    "    str1 = b\" \".join(filtered_sentence) #final string of cleaned words\n",
    "    #print(\"***********************************************************************\")\n",
    "    \n",
    "    final_string.append(str1)\n",
    "    i+=1\n",
    "final['CleanedAbstract']=final_string #adding a column of CleanedText which displays the data after pre-processing of the review \n",
    "final['CleanedAbstract']=final['CleanedAbstract'].str.decode(\"utf-8\")"
   ]
  },
  {
   "cell_type": "code",
   "execution_count": 9,
   "id": "c33451fc",
   "metadata": {
    "execution": {
     "iopub.execute_input": "2022-10-26T09:53:20.028179Z",
     "iopub.status.busy": "2022-10-26T09:53:20.026934Z",
     "iopub.status.idle": "2022-10-26T09:53:20.033529Z",
     "shell.execute_reply": "2022-10-26T09:53:20.032674Z"
    },
    "papermill": {
     "duration": 0.026604,
     "end_time": "2022-10-26T09:53:20.035676",
     "exception": false,
     "start_time": "2022-10-26T09:53:20.009072",
     "status": "completed"
    },
    "tags": []
   },
   "outputs": [
    {
     "data": {
      "text/plain": [
       "(204625, 4)"
      ]
     },
     "execution_count": 9,
     "metadata": {},
     "output_type": "execute_result"
    }
   ],
   "source": [
    "final.shape # cleaned text column added"
   ]
  },
  {
   "cell_type": "code",
   "execution_count": 10,
   "id": "81e407fe",
   "metadata": {
    "execution": {
     "iopub.execute_input": "2022-10-26T09:53:20.072168Z",
     "iopub.status.busy": "2022-10-26T09:53:20.071434Z",
     "iopub.status.idle": "2022-10-26T09:53:20.082360Z",
     "shell.execute_reply": "2022-10-26T09:53:20.081457Z"
    },
    "papermill": {
     "duration": 0.031631,
     "end_time": "2022-10-26T09:53:20.084839",
     "exception": false,
     "start_time": "2022-10-26T09:53:20.053208",
     "status": "completed"
    },
    "tags": []
   },
   "outputs": [
    {
     "data": {
      "text/html": [
       "<div>\n",
       "<style scoped>\n",
       "    .dataframe tbody tr th:only-of-type {\n",
       "        vertical-align: middle;\n",
       "    }\n",
       "\n",
       "    .dataframe tbody tr th {\n",
       "        vertical-align: top;\n",
       "    }\n",
       "\n",
       "    .dataframe thead th {\n",
       "        text-align: right;\n",
       "    }\n",
       "</style>\n",
       "<table border=\"1\" class=\"dataframe\">\n",
       "  <thead>\n",
       "    <tr style=\"text-align: right;\">\n",
       "      <th></th>\n",
       "      <th>Unnamed: 0</th>\n",
       "      <th>title</th>\n",
       "      <th>abstract</th>\n",
       "      <th>CleanedAbstract</th>\n",
       "    </tr>\n",
       "  </thead>\n",
       "  <tbody>\n",
       "    <tr>\n",
       "      <th>103604</th>\n",
       "      <td>103604</td>\n",
       "      <td>Compositional Hazard Analysis of UML Componen...</td>\n",
       "      <td>The general trend towards complex technical s...</td>\n",
       "      <td>general trend toward complex technic system em...</td>\n",
       "    </tr>\n",
       "    <tr>\n",
       "      <th>36275</th>\n",
       "      <td>36275</td>\n",
       "      <td>Dynamic Contract Layers</td>\n",
       "      <td>Design by Contract (DBC) is a programming tech...</td>\n",
       "      <td>design contract dbc program techniqu separ con...</td>\n",
       "    </tr>\n",
       "    <tr>\n",
       "      <th>297493</th>\n",
       "      <td>297493</td>\n",
       "      <td>From model transformation to incremental bidi...</td>\n",
       "      <td>The model-driven software development paradig...</td>\n",
       "      <td>softwar develop paradigm requir appropri model...</td>\n",
       "    </tr>\n",
       "  </tbody>\n",
       "</table>\n",
       "</div>"
      ],
      "text/plain": [
       "        Unnamed: 0                                              title  \\\n",
       "103604      103604   Compositional Hazard Analysis of UML Componen...   \n",
       "36275        36275                           Dynamic Contract Layers    \n",
       "297493      297493   From model transformation to incremental bidi...   \n",
       "\n",
       "                                                 abstract  \\\n",
       "103604   The general trend towards complex technical s...   \n",
       "36275   Design by Contract (DBC) is a programming tech...   \n",
       "297493   The model-driven software development paradig...   \n",
       "\n",
       "                                          CleanedAbstract  \n",
       "103604  general trend toward complex technic system em...  \n",
       "36275   design contract dbc program techniqu separ con...  \n",
       "297493  softwar develop paradigm requir appropri model...  "
      ]
     },
     "execution_count": 10,
     "metadata": {},
     "output_type": "execute_result"
    }
   ],
   "source": [
    "final.head(3)"
   ]
  },
  {
   "cell_type": "code",
   "execution_count": 11,
   "id": "549c7080",
   "metadata": {
    "execution": {
     "iopub.execute_input": "2022-10-26T09:53:20.120755Z",
     "iopub.status.busy": "2022-10-26T09:53:20.119889Z",
     "iopub.status.idle": "2022-10-26T09:53:43.802132Z",
     "shell.execute_reply": "2022-10-26T09:53:43.801321Z"
    },
    "papermill": {
     "duration": 23.703481,
     "end_time": "2022-10-26T09:53:43.805159",
     "exception": false,
     "start_time": "2022-10-26T09:53:20.101678",
     "status": "completed"
    },
    "tags": []
   },
   "outputs": [],
   "source": [
    "i=0\n",
    "str1=' '\n",
    "final_string=[]\n",
    "all_positive_words=[] # store words from +ve reviews here\n",
    "all_negative_words=[] # store words from -ve reviews here.\n",
    "s=''\n",
    "for sent in final['title'].values:\n",
    "    filtered_sentence=[]\n",
    "    #print(sent);\n",
    "    sent=cleanhtml(sent) # remove HTMl tags\n",
    "    for w in sent.split():\n",
    "        for cleaned_words in cleanpunc(w).split():\n",
    "            if((cleaned_words.isalpha()) & (len(cleaned_words)>2)):    \n",
    "                if(cleaned_words.lower() not in stop):\n",
    "                    s=(sno.stem(cleaned_words.lower())).encode('utf8')\n",
    "                    filtered_sentence.append(s)\n",
    "                else:\n",
    "                    continue\n",
    "            else:\n",
    "                continue \n",
    "    #print(filtered_sentence)\n",
    "    str1 = b\" \".join(filtered_sentence) #final string of cleaned words\n",
    "    #print(\"***********************************************************************\")\n",
    "    \n",
    "    final_string.append(str1)\n",
    "    i+=1"
   ]
  },
  {
   "cell_type": "code",
   "execution_count": 12,
   "id": "7e2243ed",
   "metadata": {
    "execution": {
     "iopub.execute_input": "2022-10-26T09:53:43.845440Z",
     "iopub.status.busy": "2022-10-26T09:53:43.844795Z",
     "iopub.status.idle": "2022-10-26T09:53:43.982187Z",
     "shell.execute_reply": "2022-10-26T09:53:43.981013Z"
    },
    "papermill": {
     "duration": 0.158308,
     "end_time": "2022-10-26T09:53:43.984892",
     "exception": false,
     "start_time": "2022-10-26T09:53:43.826584",
     "status": "completed"
    },
    "tags": []
   },
   "outputs": [
    {
     "name": "stderr",
     "output_type": "stream",
     "text": [
      "/var/folders/1d/1ltz4mh92w75fs8jnyghsh900000gn/T/ipykernel_84520/2142408653.py:1: SettingWithCopyWarning: \n",
      "A value is trying to be set on a copy of a slice from a DataFrame.\n",
      "Try using .loc[row_indexer,col_indexer] = value instead\n",
      "\n",
      "See the caveats in the documentation: https://pandas.pydata.org/pandas-docs/stable/user_guide/indexing.html#returning-a-view-versus-a-copy\n",
      "  final['CleanedTitle']=final_string #adding a column of CleanedText which displays the data after pre-processing of the review\n",
      "/var/folders/1d/1ltz4mh92w75fs8jnyghsh900000gn/T/ipykernel_84520/2142408653.py:2: SettingWithCopyWarning: \n",
      "A value is trying to be set on a copy of a slice from a DataFrame.\n",
      "Try using .loc[row_indexer,col_indexer] = value instead\n",
      "\n",
      "See the caveats in the documentation: https://pandas.pydata.org/pandas-docs/stable/user_guide/indexing.html#returning-a-view-versus-a-copy\n",
      "  final['CleanedTitle']=final['CleanedTitle'].str.decode(\"utf-8\")\n"
     ]
    }
   ],
   "source": [
    "final['CleanedTitle']=final_string #adding a column of CleanedText which displays the data after pre-processing of the review \n",
    "final['CleanedTitle']=final['CleanedTitle'].str.decode(\"utf-8\")"
   ]
  },
  {
   "cell_type": "code",
   "execution_count": 13,
   "id": "fce59c54",
   "metadata": {
    "execution": {
     "iopub.execute_input": "2022-10-26T09:53:44.020572Z",
     "iopub.status.busy": "2022-10-26T09:53:44.019916Z",
     "iopub.status.idle": "2022-10-26T09:53:56.376633Z",
     "shell.execute_reply": "2022-10-26T09:53:56.375349Z"
    },
    "papermill": {
     "duration": 12.378234,
     "end_time": "2022-10-26T09:53:56.379892",
     "exception": false,
     "start_time": "2022-10-26T09:53:44.001658",
     "status": "completed"
    },
    "tags": []
   },
   "outputs": [
    {
     "data": {
      "text/plain": [
       "(204625, 159742)"
      ]
     },
     "execution_count": 13,
     "metadata": {},
     "output_type": "execute_result"
    }
   ],
   "source": [
    "# Generating bag of words features.\n",
    "from sklearn.feature_extraction.text import CountVectorizer\n",
    "count_vect = CountVectorizer()\n",
    "bow = count_vect.fit_transform(final['CleanedAbstract'].values)\n",
    "bow.shape"
   ]
  },
  {
   "cell_type": "code",
   "execution_count": 14,
   "id": "509a9d23",
   "metadata": {
    "execution": {
     "iopub.execute_input": "2022-10-26T09:53:56.416902Z",
     "iopub.status.busy": "2022-10-26T09:53:56.416213Z",
     "iopub.status.idle": "2022-10-26T09:53:56.423233Z",
     "shell.execute_reply": "2022-10-26T09:53:56.422191Z"
    },
    "papermill": {
     "duration": 0.027497,
     "end_time": "2022-10-26T09:53:56.425464",
     "exception": false,
     "start_time": "2022-10-26T09:53:56.397967",
     "status": "completed"
    },
    "tags": []
   },
   "outputs": [
    {
     "data": {
      "text/plain": [
       "<204625x159742 sparse matrix of type '<class 'numpy.int64'>'\n",
       "\twith 10433755 stored elements in Compressed Sparse Row format>"
      ]
     },
     "execution_count": 14,
     "metadata": {},
     "output_type": "execute_result"
    }
   ],
   "source": [
    "bow"
   ]
  },
  {
   "cell_type": "code",
   "execution_count": 15,
   "id": "57371fb5",
   "metadata": {
    "execution": {
     "iopub.execute_input": "2022-10-26T09:53:56.461980Z",
     "iopub.status.busy": "2022-10-26T09:53:56.461581Z",
     "iopub.status.idle": "2022-10-26T09:53:56.642267Z",
     "shell.execute_reply": "2022-10-26T09:53:56.640935Z"
    },
    "papermill": {
     "duration": 0.202949,
     "end_time": "2022-10-26T09:53:56.645829",
     "exception": false,
     "start_time": "2022-10-26T09:53:56.442880",
     "status": "completed"
    },
    "tags": []
   },
   "outputs": [
    {
     "name": "stderr",
     "output_type": "stream",
     "text": [
      "/Users/oleg-nai/opt/anaconda3/lib/python3.9/site-packages/sklearn/utils/deprecation.py:87: FutureWarning: Function get_feature_names is deprecated; get_feature_names is deprecated in 1.0 and will be removed in 1.2. Please use get_feature_names_out instead.\n",
      "  warnings.warn(msg, category=FutureWarning)\n"
     ]
    }
   ],
   "source": [
    "# to understand what kind of words generated as columns by BOW\n",
    "terms = count_vect.get_feature_names()"
   ]
  },
  {
   "cell_type": "code",
   "execution_count": 16,
   "id": "bf7812ed",
   "metadata": {
    "execution": {
     "iopub.execute_input": "2022-10-26T09:53:56.683216Z",
     "iopub.status.busy": "2022-10-26T09:53:56.682359Z",
     "iopub.status.idle": "2022-10-26T09:53:56.689704Z",
     "shell.execute_reply": "2022-10-26T09:53:56.688553Z"
    },
    "papermill": {
     "duration": 0.028037,
     "end_time": "2022-10-26T09:53:56.691923",
     "exception": false,
     "start_time": "2022-10-26T09:53:56.663886",
     "status": "completed"
    },
    "tags": []
   },
   "outputs": [
    {
     "data": {
      "text/plain": [
       "['aaa',\n",
       " 'aaaa',\n",
       " 'aaaaa',\n",
       " 'aaaacommunica',\n",
       " 'aaac',\n",
       " 'aaai',\n",
       " 'aaam',\n",
       " 'aab',\n",
       " 'aabb']"
      ]
     },
     "execution_count": 16,
     "metadata": {},
     "output_type": "execute_result"
    }
   ],
   "source": [
    "#first 10 columns generated by BOW\n",
    "terms[1:10]"
   ]
  },
  {
   "cell_type": "code",
   "execution_count": 17,
   "id": "cc1135d1",
   "metadata": {
    "execution": {
     "iopub.execute_input": "2022-10-26T09:53:56.729881Z",
     "iopub.status.busy": "2022-10-26T09:53:56.728640Z",
     "iopub.status.idle": "2022-10-26T09:56:08.155759Z",
     "shell.execute_reply": "2022-10-26T09:56:08.154559Z"
    },
    "papermill": {
     "duration": 131.463456,
     "end_time": "2022-10-26T09:56:08.173347",
     "exception": false,
     "start_time": "2022-10-26T09:53:56.709891",
     "status": "completed"
    },
    "tags": []
   },
   "outputs": [
    {
     "data": {
      "text/plain": [
       "KMeans(n_clusters=10, random_state=99)"
      ]
     },
     "execution_count": 17,
     "metadata": {},
     "output_type": "execute_result"
    }
   ],
   "source": [
    "#using all processes jobs=-1 and k means++ for starting initilization advantage\n",
    "from sklearn.cluster import KMeans\n",
    "model = KMeans(n_clusters = 10,init='k-means++',random_state=99)\n",
    "model.fit(bow)"
   ]
  },
  {
   "cell_type": "code",
   "execution_count": 18,
   "id": "8079a96d",
   "metadata": {
    "execution": {
     "iopub.execute_input": "2022-10-26T09:56:08.211118Z",
     "iopub.status.busy": "2022-10-26T09:56:08.210719Z",
     "iopub.status.idle": "2022-10-26T09:56:08.215926Z",
     "shell.execute_reply": "2022-10-26T09:56:08.214937Z"
    },
    "papermill": {
     "duration": 0.026243,
     "end_time": "2022-10-26T09:56:08.218188",
     "exception": false,
     "start_time": "2022-10-26T09:56:08.191945",
     "status": "completed"
    },
    "tags": []
   },
   "outputs": [],
   "source": [
    "labels = model.labels_\n",
    "cluster_center=model.cluster_centers_"
   ]
  },
  {
   "cell_type": "code",
   "execution_count": 19,
   "id": "c84be4a1",
   "metadata": {
    "execution": {
     "iopub.execute_input": "2022-10-26T09:56:08.256211Z",
     "iopub.status.busy": "2022-10-26T09:56:08.254899Z",
     "iopub.status.idle": "2022-10-26T09:56:08.262819Z",
     "shell.execute_reply": "2022-10-26T09:56:08.261662Z"
    },
    "papermill": {
     "duration": 0.029211,
     "end_time": "2022-10-26T09:56:08.265356",
     "exception": false,
     "start_time": "2022-10-26T09:56:08.236145",
     "status": "completed"
    },
    "tags": []
   },
   "outputs": [
    {
     "data": {
      "text/plain": [
       "array([[0.00000000e+00, 3.93804148e-04, 0.00000000e+00, ...,\n",
       "        1.31268049e-04, 0.00000000e+00, 0.00000000e+00],\n",
       "       [0.00000000e+00, 0.00000000e+00, 0.00000000e+00, ...,\n",
       "        0.00000000e+00, 0.00000000e+00, 0.00000000e+00],\n",
       "       [7.37191301e-04, 6.63472171e-03, 0.00000000e+00, ...,\n",
       "        0.00000000e+00, 0.00000000e+00, 0.00000000e+00],\n",
       "       ...,\n",
       "       [1.91632066e-04, 0.00000000e+00, 0.00000000e+00, ...,\n",
       "        0.00000000e+00, 0.00000000e+00, 0.00000000e+00],\n",
       "       [2.68889486e-04, 6.72223716e-05, 0.00000000e+00, ...,\n",
       "        0.00000000e+00, 0.00000000e+00, 0.00000000e+00],\n",
       "       [1.15200737e-05, 1.49760958e-04, 1.15200737e-05, ...,\n",
       "        0.00000000e+00, 0.00000000e+00, 0.00000000e+00]])"
      ]
     },
     "execution_count": 19,
     "metadata": {},
     "output_type": "execute_result"
    }
   ],
   "source": [
    "cluster_center"
   ]
  },
  {
   "cell_type": "code",
   "execution_count": 20,
   "id": "210e252c",
   "metadata": {
    "execution": {
     "iopub.execute_input": "2022-10-26T09:56:08.302843Z",
     "iopub.status.busy": "2022-10-26T09:56:08.301704Z",
     "iopub.status.idle": "2022-10-26T10:46:33.029952Z",
     "shell.execute_reply": "2022-10-26T10:46:33.028755Z"
    },
    "papermill": {
     "duration": 3024.749894,
     "end_time": "2022-10-26T10:46:33.032672",
     "exception": false,
     "start_time": "2022-10-26T09:56:08.282778",
     "status": "completed"
    },
    "tags": []
   },
   "outputs": [],
   "source": [
    "from sklearn import metrics\n",
    "silhouette_score = metrics.silhouette_score(bow, labels, metric='euclidean')"
   ]
  },
  {
   "cell_type": "code",
   "execution_count": 21,
   "id": "86f6e9df",
   "metadata": {
    "execution": {
     "iopub.execute_input": "2022-10-26T10:46:33.069365Z",
     "iopub.status.busy": "2022-10-26T10:46:33.068978Z",
     "iopub.status.idle": "2022-10-26T10:46:33.075206Z",
     "shell.execute_reply": "2022-10-26T10:46:33.074097Z"
    },
    "papermill": {
     "duration": 0.027185,
     "end_time": "2022-10-26T10:46:33.077538",
     "exception": false,
     "start_time": "2022-10-26T10:46:33.050353",
     "status": "completed"
    },
    "tags": []
   },
   "outputs": [
    {
     "data": {
      "text/plain": [
       "0.021426486860358123"
      ]
     },
     "execution_count": 21,
     "metadata": {},
     "output_type": "execute_result"
    }
   ],
   "source": [
    "# which tells us that clusters are far away from each other \n",
    "silhouette_score"
   ]
  },
  {
   "cell_type": "code",
   "execution_count": 22,
   "id": "f08c3e0e",
   "metadata": {
    "execution": {
     "iopub.execute_input": "2022-10-26T10:46:33.113482Z",
     "iopub.status.busy": "2022-10-26T10:46:33.113093Z",
     "iopub.status.idle": "2022-10-26T10:46:33.132404Z",
     "shell.execute_reply": "2022-10-26T10:46:33.131317Z"
    },
    "papermill": {
     "duration": 0.040255,
     "end_time": "2022-10-26T10:46:33.134825",
     "exception": false,
     "start_time": "2022-10-26T10:46:33.094570",
     "status": "completed"
    },
    "tags": []
   },
   "outputs": [
    {
     "name": "stderr",
     "output_type": "stream",
     "text": [
      "/var/folders/1d/1ltz4mh92w75fs8jnyghsh900000gn/T/ipykernel_84520/2512822080.py:3: SettingWithCopyWarning: \n",
      "A value is trying to be set on a copy of a slice from a DataFrame.\n",
      "Try using .loc[row_indexer,col_indexer] = value instead\n",
      "\n",
      "See the caveats in the documentation: https://pandas.pydata.org/pandas-docs/stable/user_guide/indexing.html#returning-a-view-versus-a-copy\n",
      "  df['Bow Clus Label'] = model.labels_ # the last column you can see the label numebers\n"
     ]
    },
    {
     "data": {
      "text/html": [
       "<div>\n",
       "<style scoped>\n",
       "    .dataframe tbody tr th:only-of-type {\n",
       "        vertical-align: middle;\n",
       "    }\n",
       "\n",
       "    .dataframe tbody tr th {\n",
       "        vertical-align: top;\n",
       "    }\n",
       "\n",
       "    .dataframe thead th {\n",
       "        text-align: right;\n",
       "    }\n",
       "</style>\n",
       "<table border=\"1\" class=\"dataframe\">\n",
       "  <thead>\n",
       "    <tr style=\"text-align: right;\">\n",
       "      <th></th>\n",
       "      <th>Unnamed: 0</th>\n",
       "      <th>title</th>\n",
       "      <th>abstract</th>\n",
       "      <th>CleanedAbstract</th>\n",
       "      <th>CleanedTitle</th>\n",
       "      <th>Bow Clus Label</th>\n",
       "    </tr>\n",
       "  </thead>\n",
       "  <tbody>\n",
       "    <tr>\n",
       "      <th>103604</th>\n",
       "      <td>103604</td>\n",
       "      <td>Compositional Hazard Analysis of UML Componen...</td>\n",
       "      <td>The general trend towards complex technical s...</td>\n",
       "      <td>general trend toward complex technic system em...</td>\n",
       "      <td>composit hazard analysi uml compon deploy model</td>\n",
       "      <td>4</td>\n",
       "    </tr>\n",
       "    <tr>\n",
       "      <th>36275</th>\n",
       "      <td>36275</td>\n",
       "      <td>Dynamic Contract Layers</td>\n",
       "      <td>Design by Contract (DBC) is a programming tech...</td>\n",
       "      <td>design contract dbc program techniqu separ con...</td>\n",
       "      <td>dynam contract layer</td>\n",
       "      <td>6</td>\n",
       "    </tr>\n",
       "  </tbody>\n",
       "</table>\n",
       "</div>"
      ],
      "text/plain": [
       "        Unnamed: 0                                              title  \\\n",
       "103604      103604   Compositional Hazard Analysis of UML Componen...   \n",
       "36275        36275                           Dynamic Contract Layers    \n",
       "\n",
       "                                                 abstract  \\\n",
       "103604   The general trend towards complex technical s...   \n",
       "36275   Design by Contract (DBC) is a programming tech...   \n",
       "\n",
       "                                          CleanedAbstract  \\\n",
       "103604  general trend toward complex technic system em...   \n",
       "36275   design contract dbc program techniqu separ con...   \n",
       "\n",
       "                                           CleanedTitle  Bow Clus Label  \n",
       "103604  composit hazard analysi uml compon deploy model               4  \n",
       "36275                              dynam contract layer               6  "
      ]
     },
     "execution_count": 22,
     "metadata": {},
     "output_type": "execute_result"
    }
   ],
   "source": [
    "# Giving Labels/assigning a cluster to each point/text \n",
    "df = final\n",
    "df['Bow Clus Label'] = model.labels_ # the last column you can see the label numebers\n",
    "df.head(2)"
   ]
  },
  {
   "cell_type": "code",
   "execution_count": 23,
   "id": "d7efddc1",
   "metadata": {
    "execution": {
     "iopub.execute_input": "2022-10-26T10:46:33.172404Z",
     "iopub.status.busy": "2022-10-26T10:46:33.171729Z",
     "iopub.status.idle": "2022-10-26T10:46:33.210936Z",
     "shell.execute_reply": "2022-10-26T10:46:33.209908Z"
    },
    "papermill": {
     "duration": 0.060363,
     "end_time": "2022-10-26T10:46:33.213040",
     "exception": false,
     "start_time": "2022-10-26T10:46:33.152677",
     "status": "completed"
    },
    "tags": []
   },
   "outputs": [
    {
     "data": {
      "text/plain": [
       "Bow Clus Label\n",
       "0     7618\n",
       "1       21\n",
       "2     2713\n",
       "3    12001\n",
       "4    15281\n",
       "5     8431\n",
       "6    41224\n",
       "7    15655\n",
       "8    14876\n",
       "9    86805\n",
       "Name: title, dtype: int64"
      ]
     },
     "execution_count": 23,
     "metadata": {},
     "output_type": "execute_result"
    }
   ],
   "source": [
    "df.groupby(['Bow Clus Label'])['title'].count()"
   ]
  },
  {
   "cell_type": "code",
   "execution_count": 24,
   "id": "62496b88",
   "metadata": {
    "execution": {
     "iopub.execute_input": "2022-10-26T10:46:33.251169Z",
     "iopub.status.busy": "2022-10-26T10:46:33.250521Z",
     "iopub.status.idle": "2022-10-26T10:46:33.477696Z",
     "shell.execute_reply": "2022-10-26T10:46:33.476403Z"
    },
    "papermill": {
     "duration": 0.24865,
     "end_time": "2022-10-26T10:46:33.479989",
     "exception": false,
     "start_time": "2022-10-26T10:46:33.231339",
     "status": "completed"
    },
    "tags": []
   },
   "outputs": [
    {
     "name": "stdout",
     "output_type": "stream",
     "text": [
      "Top terms per cluster:\n",
      "Cluster 0: data\n",
      " use\n",
      " system\n",
      " paper\n",
      " set\n",
      " method\n",
      " propos\n",
      " inform\n",
      " algorithm\n",
      " model\n",
      "Cluster 1: use\n",
      " function\n",
      " comput\n",
      " set\n",
      " system\n",
      " one\n",
      " point\n",
      " group\n",
      " data\n",
      " method\n",
      "Cluster 2: servic\n",
      " web\n",
      " provid\n",
      " use\n",
      " user\n",
      " applic\n",
      " system\n",
      " paper\n",
      " model\n",
      " propos\n",
      "Cluster 3: model\n",
      " use\n",
      " system\n",
      " paper\n",
      " propos\n",
      " process\n",
      " approach\n",
      " base\n",
      " result\n",
      " present\n",
      "Cluster 4: system\n",
      " use\n",
      " paper\n",
      " design\n",
      " control\n",
      " model\n",
      " develop\n",
      " perform\n",
      " present\n",
      " inform\n",
      "Cluster 5: network\n",
      " node\n",
      " use\n",
      " propos\n",
      " paper\n",
      " perform\n",
      " result\n",
      " rout\n",
      " protocol\n",
      " wireless\n",
      "Cluster 6: use\n",
      " paper\n",
      " design\n",
      " approach\n",
      " result\n",
      " inform\n",
      " system\n",
      " present\n",
      " develop\n",
      " perform\n",
      "Cluster 7: algorithm\n",
      " problem\n",
      " use\n",
      " propos\n",
      " time\n",
      " optim\n",
      " result\n",
      " paper\n",
      " comput\n",
      " present\n",
      "Cluster 8: method\n",
      " imag\n",
      " use\n",
      " propos\n",
      " result\n",
      " paper\n",
      " base\n",
      " featur\n",
      " algorithm\n",
      " approach\n",
      "Cluster 9: paper\n",
      " use\n",
      " present\n",
      " system\n",
      " result\n",
      " problem\n",
      " set\n",
      " comput\n",
      " show\n",
      " model\n"
     ]
    },
    {
     "name": "stderr",
     "output_type": "stream",
     "text": [
      "/Users/oleg-nai/opt/anaconda3/lib/python3.9/site-packages/sklearn/utils/deprecation.py:87: FutureWarning: Function get_feature_names is deprecated; get_feature_names is deprecated in 1.0 and will be removed in 1.2. Please use get_feature_names_out instead.\n",
      "  warnings.warn(msg, category=FutureWarning)\n"
     ]
    }
   ],
   "source": [
    "#Refrence credit - to find the top 10 features of cluster centriod\n",
    "#https://stackoverflow.com/questions/47452119/kmean-clustering-top-terms-in-cluster\n",
    "print(\"Top terms per cluster:\")\n",
    "order_centroids = model.cluster_centers_.argsort()[:, ::-1]\n",
    "terms = count_vect.get_feature_names()\n",
    "for i in range(10):\n",
    "    print(\"Cluster %d:\" % i, end='')\n",
    "    for ind in order_centroids[i, :10]:\n",
    "        print(' %s' % terms[ind], end='')\n",
    "        print()"
   ]
  },
  {
   "cell_type": "code",
   "execution_count": 25,
   "id": "ec254b53",
   "metadata": {
    "execution": {
     "iopub.execute_input": "2022-10-26T10:46:33.517820Z",
     "iopub.status.busy": "2022-10-26T10:46:33.517014Z",
     "iopub.status.idle": "2022-10-26T10:46:33.794607Z",
     "shell.execute_reply": "2022-10-26T10:46:33.793532Z"
    },
    "papermill": {
     "duration": 0.299278,
     "end_time": "2022-10-26T10:46:33.797319",
     "exception": false,
     "start_time": "2022-10-26T10:46:33.498041",
     "status": "completed"
    },
    "tags": []
   },
   "outputs": [
    {
     "data": {
      "image/png": "[encoded data removed]",
      "text/plain": [
       "<Figure size 640x480 with 1 Axes>"
      ]
     },
     "metadata": {},
     "output_type": "display_data"
    }
   ],
   "source": [
    "# visually how points or reviews are distributed across 10 clusters \n",
    "import matplotlib.pyplot as plt\n",
    "plt.bar([x for x in range(10)], df.groupby(['Bow Clus Label'])['abstract'].count(), alpha = 0.4)\n",
    "plt.title('KMeans cluster points')\n",
    "plt.xlabel(\"Cluster number\")\n",
    "plt.ylabel(\"Number of points\")\n",
    "plt.show()"
   ]
  },
  {
   "cell_type": "code",
   "execution_count": 27,
   "id": "4d465abc",
   "metadata": {
    "execution": {
     "iopub.execute_input": "2022-10-26T10:46:33.836281Z",
     "iopub.status.busy": "2022-10-26T10:46:33.835638Z",
     "iopub.status.idle": "2022-10-26T10:46:33.987650Z",
     "shell.execute_reply": "2022-10-26T10:46:33.986213Z"
    },
    "papermill": {
     "duration": 0.173526,
     "end_time": "2022-10-26T10:46:33.989393",
     "exception": true,
     "start_time": "2022-10-26T10:46:33.815867",
     "status": "failed"
    },
    "tags": []
   },
   "outputs": [
    {
     "name": "stdout",
     "output_type": "stream",
     "text": [
      "Обзор статей, отнесенных к кластеру  0\n",
      "----------------------------------------------------------------------\n",
      "103604     The general trend towards complex technical s...\n",
      "36275     Design by Contract (DBC) is a programming tech...\n",
      "297493     The model-driven software development paradig...\n",
      "65386      The model-driven engineering community has de...\n",
      "201515    In typical classification tasks, we seek a fun...\n",
      "                                ...                        \n",
      "211576    Many computer science departments are debating...\n",
      "153128    In this paper, an Hfrinfin/LPV observer to be ...\n",
      "271444    This paper studies the ℒ2 (mean-square) optima...\n",
      "217880    In this paper, the problem of ℓ1-induced contr...\n",
      "70057     A new stationary subdivision scheme is present...\n",
      "Name: abstract, Length: 204625, dtype: object\n",
      "\n",
      "\n",
      "______________________________________________________________________\n",
      "Обзор статей, отнесенных к кластеру  1\n",
      "----------------------------------------------------------------------\n",
      "103604     The general trend towards complex technical s...\n",
      "36275     Design by Contract (DBC) is a programming tech...\n",
      "297493     The model-driven software development paradig...\n",
      "65386      The model-driven engineering community has de...\n",
      "201515    In typical classification tasks, we seek a fun...\n",
      "                                ...                        \n",
      "211576    Many computer science departments are debating...\n",
      "153128    In this paper, an Hfrinfin/LPV observer to be ...\n",
      "271444    This paper studies the ℒ2 (mean-square) optima...\n",
      "217880    In this paper, the problem of ℓ1-induced contr...\n",
      "70057     A new stationary subdivision scheme is present...\n",
      "Name: abstract, Length: 204625, dtype: object\n",
      "\n",
      "\n",
      "______________________________________________________________________\n",
      "Обзор статей, отнесенных к кластеру  2\n",
      "----------------------------------------------------------------------\n",
      "103604     The general trend towards complex technical s...\n",
      "36275     Design by Contract (DBC) is a programming tech...\n",
      "297493     The model-driven software development paradig...\n",
      "65386      The model-driven engineering community has de...\n",
      "201515    In typical classification tasks, we seek a fun...\n",
      "                                ...                        \n",
      "136807    The paper analyzes the class of product-form q...\n",
      "187286    Many of analysis tasks have to deal with missi...\n",
      "290960    Scan shift power can be reduced by activating ...\n",
      "199668    Large IBM mainframe processors and the control...\n",
      "56179     The IBM Enterprise Systems ArchitectureJ370\" v...\n",
      "Name: abstract, Length: 113529, dtype: object\n",
      "\n",
      "\n",
      "______________________________________________________________________\n",
      "Обзор статей, отнесенных к кластеру  3\n",
      "----------------------------------------------------------------------\n",
      "103604     The general trend towards complex technical s...\n",
      "36275     Design by Contract (DBC) is a programming tech...\n",
      "297493     The model-driven software development paradig...\n",
      "65386      The model-driven engineering community has de...\n",
      "201515    In typical classification tasks, we seek a fun...\n",
      "                                ...                        \n",
      "164766    \\n Abstract. Distributed work has increased du...\n",
      "270627    Motivation: The human genome project and the d...\n",
      "294359    In this article, we present MADIK, a Multi-Age...\n",
      "95791     This paper describes the design of MAGE驴 Metac...\n",
      "189805    K-anonymity is a fine approach to protecting p...\n",
      "Name: abstract, Length: 112988, dtype: object\n",
      "\n",
      "\n",
      "______________________________________________________________________\n",
      "Обзор статей, отнесенных к кластеру  4\n",
      "----------------------------------------------------------------------\n",
      "103604     The general trend towards complex technical s...\n",
      "36275     Design by Contract (DBC) is a programming tech...\n",
      "297493     The model-driven software development paradig...\n",
      "65386      The model-driven engineering community has de...\n",
      "201515    In typical classification tasks, we seek a fun...\n",
      "                                ...                        \n",
      "197630    This paper, discusses the confluence of two ma...\n",
      "119132    This paper proposes a usability testing method...\n",
      "289484    WiMAX (Worldwide Interoperability for Microwav...\n",
      "197587    WiMAX networks provide broadband data access t...\n",
      "224150    A mobile wireless sensor network owes its name...\n",
      "Name: abstract, Length: 118493, dtype: object\n",
      "\n",
      "\n",
      "______________________________________________________________________\n",
      "Обзор статей, отнесенных к кластеру  5\n",
      "----------------------------------------------------------------------\n",
      "103604     The general trend towards complex technical s...\n",
      "36275     Design by Contract (DBC) is a programming tech...\n",
      "297493     The model-driven software development paradig...\n",
      "65386      The model-driven engineering community has de...\n",
      "201515    In typical classification tasks, we seek a fun...\n",
      "                                ...                        \n",
      "194613    This paper describes SimpleNLG for German, a s...\n",
      "246283    The authors describe a new Cellular Automata (...\n",
      "197081    Even if geographical aspects such as location ...\n",
      "126444    In this paper we propose the design of a metah...\n",
      "91645     This paper investigates the unsupervised adapt...\n",
      "Name: abstract, Length: 21221, dtype: object\n",
      "\n",
      "\n",
      "______________________________________________________________________\n",
      "Обзор статей, отнесенных к кластеру  6\n",
      "----------------------------------------------------------------------\n",
      "103604     The general trend towards complex technical s...\n",
      "36275     Design by Contract (DBC) is a programming tech...\n",
      "297493     The model-driven software development paradig...\n",
      "65386      The model-driven engineering community has de...\n",
      "201515    In typical classification tasks, we seek a fun...\n",
      "                                ...                        \n",
      "101058    Real-time audio and video conferencing has not...\n",
      "109565    A model driven architecture combined with SBVR...\n",
      "244418    Science aims to develop an accurate understand...\n",
      "163585    String theory promises to be able to provide u...\n",
      "213326    A critical yet largely unexamined facet of dig...\n",
      "Name: abstract, Length: 153233, dtype: object\n",
      "\n",
      "\n",
      "______________________________________________________________________\n",
      "Обзор статей, отнесенных к кластеру  7\n",
      "----------------------------------------------------------------------\n",
      "103604     The general trend towards complex technical s...\n",
      "36275     Design by Contract (DBC) is a programming tech...\n",
      "297493     The model-driven software development paradig...\n",
      "65386      The model-driven engineering community has de...\n",
      "201515    In typical classification tasks, we seek a fun...\n",
      "                                ...                        \n",
      "211576    Many computer science departments are debating...\n",
      "153128    In this paper, an Hfrinfin/LPV observer to be ...\n",
      "271444    This paper studies the ℒ2 (mean-square) optima...\n",
      "217880    In this paper, the problem of ℓ1-induced contr...\n",
      "70057     A new stationary subdivision scheme is present...\n",
      "Name: abstract, Length: 204625, dtype: object\n",
      "\n",
      "\n",
      "______________________________________________________________________\n",
      "Обзор статей, отнесенных к кластеру  8\n",
      "----------------------------------------------------------------------\n",
      "103604     The general trend towards complex technical s...\n",
      "36275     Design by Contract (DBC) is a programming tech...\n",
      "297493     The model-driven software development paradig...\n",
      "65386      The model-driven engineering community has de...\n",
      "201515    In typical classification tasks, we seek a fun...\n",
      "                                ...                        \n",
      "122778    Purpose - The purpose of this paper is to pres...\n",
      "79806     In this paper we present the novel SD-Map algo...\n",
      "185889    SD2 is a system of Venn-type diagrams that can...\n",
      "243028    As multicore processors are deployed in mainst...\n",
      "271022    This paper presents SDCS (Simple Data Communic...\n",
      "Name: abstract, Length: 161382, dtype: object\n",
      "\n",
      "\n",
      "______________________________________________________________________\n"
     ]
    }
   ],
   "source": [
    "\n",
    "for i in range(9):\n",
    "    print(\"Обзор статей, отнесенных к кластеру \", i)\n",
    "    print(\"-\" * 70)\n",
    "    print(df.iloc[:df.groupby(['Bow Clus Label']).groups[0][i]]['abstract'])\n",
    "    print('\\n')\n",
    "    print(\"_\" * 70)"
   ]
  },
  {
   "cell_type": "code",
   "execution_count": 28,
   "id": "285cb0b9",
   "metadata": {
    "execution": {
     "iopub.execute_input": "2022-10-25T11:07:22.900201Z",
     "iopub.status.busy": "2022-10-25T11:07:22.899691Z",
     "iopub.status.idle": "2022-10-25T11:07:22.941879Z",
     "shell.execute_reply": "2022-10-25T11:07:22.940191Z",
     "shell.execute_reply.started": "2022-10-25T11:07:22.900164Z"
    },
    "papermill": {
     "duration": null,
     "end_time": null,
     "exception": null,
     "start_time": null,
     "status": "pending"
    },
    "tags": []
   },
   "outputs": [
    {
     "name": "stdout",
     "output_type": "stream",
     "text": [
      "The communication techniques used amongst agents in a system is critical to the effectiveness and success of collaboration based actions. Agents which fail to store or communicate information in an effective uniform manner will not be able to accomplish their goals. The aim of the paper is to determine the particular difficulties relating to agent information representation and reconstruction. In addition the paper will discuss whether or not it is profitable for agents to be equipped with the ability to modify their communication style.\n",
      "______________________________________________________________________\n",
      "Simulated evolution on a computer can provide a means for generating appropriate tactics in real-time combat scenarios. Individual unit or higher level organizations, such as tanks and platoons, can use evolutionary computation to adapt to the current and projected situations. In this article, we briefly review current knowledge in evolutionary algorithms and offer an example of applying these techniques to generate adaptive behavior in a platoon-level engagement of tanks in which the mission of one platoon is changed on-the-fly.\n",
      "______________________________________________________________________\n",
      "This paper reflects on the emerging results of a long-standing ethnographic study of everyday work in a large retail Bank. While customers as economic actors have often been overlooked in studies of computer supported work they are generally and necessarily the focus of commercial organisational life. The paper explicates the developing relationship between technology use and these organisational concerns through the notion of 'the customer in the machine.' Features of the contingent and skilful nature of everyday work are documented and used to comment on aspects of working with the 'customer in the machine' or 'virtual customers' within a rapidly changing commercial organisation.\n"
     ]
    }
   ],
   "source": [
    "#3 рандомных примера из кластера 0\n",
    "\n",
    "print(df.iloc[df.groupby(['Bow Clus Label']).groups[0][3]]['abstract'])\n",
    "print(\"_\" * 70)\n",
    "print(df.iloc[df.groupby(['Bow Clus Label']).groups[0][15]]['abstract'])\n",
    "print(\"_\" * 70)\n",
    "print(df.iloc[df.groupby(['Bow Clus Label']).groups[0][25]]['abstract'])"
   ]
  },
  {
   "cell_type": "code",
   "execution_count": 30,
   "id": "3d10a3f9",
   "metadata": {
    "execution": {
     "iopub.execute_input": "2022-10-25T11:09:09.714475Z",
     "iopub.status.busy": "2022-10-25T11:09:09.713988Z",
     "iopub.status.idle": "2022-10-25T11:09:09.758551Z",
     "shell.execute_reply": "2022-10-25T11:09:09.756643Z",
     "shell.execute_reply.started": "2022-10-25T11:09:09.714437Z"
    },
    "papermill": {
     "duration": null,
     "end_time": null,
     "exception": null,
     "start_time": null,
     "status": "pending"
    },
    "tags": []
   },
   "outputs": [
    {
     "name": "stdout",
     "output_type": "stream",
     "text": [
      "103604     The general trend towards complex technical s...\n",
      "36275     Design by Contract (DBC) is a programming tech...\n",
      "297493     The model-driven software development paradig...\n",
      "65386      The model-driven engineering community has de...\n",
      "201515    In typical classification tasks, we seek a fun...\n",
      "                                ...                        \n",
      "211576    Many computer science departments are debating...\n",
      "153128    In this paper, an Hfrinfin/LPV observer to be ...\n",
      "271444    This paper studies the ℒ2 (mean-square) optima...\n",
      "217880    In this paper, the problem of ℓ1-induced contr...\n",
      "70057     A new stationary subdivision scheme is present...\n",
      "Name: abstract, Length: 204625, dtype: object\n",
      "______________________________________________________________________\n",
      "103604     The general trend towards complex technical s...\n",
      "36275     Design by Contract (DBC) is a programming tech...\n",
      "297493     The model-driven software development paradig...\n",
      "65386      The model-driven engineering community has de...\n",
      "201515    In typical classification tasks, we seek a fun...\n",
      "                                ...                        \n",
      "197824    The distributed usage of computing resources o...\n",
      "57350     Metacat is a flexible, schema-independent XML-...\n",
      "198101    I vividly remember during my first college cla...\n",
      "238295    Effective deployment and utilisation of limite...\n",
      "73026     Measurement based software process improvement...\n",
      "Name: abstract, Length: 114246, dtype: object\n",
      "______________________________________________________________________\n",
      "103604     The general trend towards complex technical s...\n",
      "36275     Design by Contract (DBC) is a programming tech...\n",
      "297493     The model-driven software development paradig...\n",
      "65386      The model-driven engineering community has de...\n",
      "201515    In typical classification tasks, we seek a fun...\n",
      "                                ...                        \n",
      "154830    The article is a study of current progress in ...\n",
      "148612    <P>In an important class of systems, which ari...\n",
      "278004    Mobile ad hoc and sensor networks often contai...\n",
      "293205    We have proposed a dynamic model of a soft fin...\n",
      "145280    Web services are software components defined b...\n",
      "Name: abstract, Length: 119460, dtype: object\n"
     ]
    }
   ],
   "source": [
    "#3 рандомных примера из кластера 3\n",
    "\n",
    "print(df.iloc[:df.groupby(['Bow Clus Label']).groups[3][3]]['abstract'])\n",
    "print(\"_\" * 70)\n",
    "print(df.iloc[:df.groupby(['Bow Clus Label']).groups[3][15]]['abstract'])\n",
    "print(\"_\" * 70)\n",
    "print(df.iloc[:df.groupby(['Bow Clus Label']).groups[3][25]]['abstract'])"
   ]
  },
  {
   "cell_type": "code",
   "execution_count": 32,
   "id": "20c2b83e",
   "metadata": {
    "execution": {
     "iopub.execute_input": "2022-10-25T11:09:33.201253Z",
     "iopub.status.busy": "2022-10-25T11:09:33.200737Z",
     "iopub.status.idle": "2022-10-25T11:09:33.245831Z",
     "shell.execute_reply": "2022-10-25T11:09:33.243627Z",
     "shell.execute_reply.started": "2022-10-25T11:09:33.201213Z"
    },
    "papermill": {
     "duration": null,
     "end_time": null,
     "exception": null,
     "start_time": null,
     "status": "pending"
    },
    "tags": []
   },
   "outputs": [
    {
     "name": "stdout",
     "output_type": "stream",
     "text": [
      "103604     The general trend towards complex technical s...\n",
      "36275     Design by Contract (DBC) is a programming tech...\n",
      "297493     The model-driven software development paradig...\n",
      "65386      The model-driven engineering community has de...\n",
      "201515    In typical classification tasks, we seek a fun...\n",
      "                                ...                        \n",
      "211576    Many computer science departments are debating...\n",
      "153128    In this paper, an Hfrinfin/LPV observer to be ...\n",
      "271444    This paper studies the ℒ2 (mean-square) optima...\n",
      "217880    In this paper, the problem of ℓ1-induced contr...\n",
      "70057     A new stationary subdivision scheme is present...\n",
      "Name: abstract, Length: 204625, dtype: object\n",
      "______________________________________________________________________\n",
      "103604     The general trend towards complex technical s...\n",
      "36275     Design by Contract (DBC) is a programming tech...\n",
      "297493     The model-driven software development paradig...\n",
      "65386      The model-driven engineering community has de...\n",
      "201515    In typical classification tasks, we seek a fun...\n",
      "                                ...                        \n",
      "211576    Many computer science departments are debating...\n",
      "153128    In this paper, an Hfrinfin/LPV observer to be ...\n",
      "271444    This paper studies the ℒ2 (mean-square) optima...\n",
      "217880    In this paper, the problem of ℓ1-induced contr...\n",
      "70057     A new stationary subdivision scheme is present...\n",
      "Name: abstract, Length: 204625, dtype: object\n",
      "______________________________________________________________________\n",
      "103604     The general trend towards complex technical s...\n",
      "36275     Design by Contract (DBC) is a programming tech...\n",
      "297493     The model-driven software development paradig...\n",
      "65386      The model-driven engineering community has de...\n",
      "201515    In typical classification tasks, we seek a fun...\n",
      "                                ...                        \n",
      "242040    Recordings from cerebellar Purkinje cell dendr...\n",
      "217459    In this paper, we study period of processing o...\n",
      "261482    The period of a recent streamcipher proposal E...\n",
      "264752    Consider the pseudorandom number generator u(n...\n",
      "278126    We study the relationship between the global p...\n",
      "Name: abstract, Length: 141798, dtype: object\n"
     ]
    }
   ],
   "source": [
    "#3 рандомных примера из кластера 4\n",
    "\n",
    "print(df.iloc[:df.groupby(['Bow Clus Label']).groups[4][3]]['abstract'])\n",
    "print(\"_\" * 70)\n",
    "print(df.iloc[:df.groupby(['Bow Clus Label']).groups[4][15]]['abstract'])\n",
    "print(\"_\" * 70)\n",
    "print(df.iloc[:df.groupby(['Bow Clus Label']).groups[4][25]]['abstract'])"
   ]
  },
  {
   "cell_type": "markdown",
   "id": "1d6114cd",
   "metadata": {
    "papermill": {
     "duration": null,
     "end_time": null,
     "exception": null,
     "start_time": null,
     "status": "pending"
    },
    "tags": []
   },
   "source": [
    "K means using TFIDF"
   ]
  },
  {
   "cell_type": "code",
   "execution_count": 33,
   "id": "675c9ea0",
   "metadata": {
    "execution": {
     "iopub.execute_input": "2022-10-26T09:08:09.871525Z",
     "iopub.status.busy": "2022-10-26T09:08:09.871132Z",
     "iopub.status.idle": "2022-10-26T09:08:23.163329Z",
     "shell.execute_reply": "2022-10-26T09:08:23.162321Z",
     "shell.execute_reply.started": "2022-10-26T09:08:09.871494Z"
    },
    "papermill": {
     "duration": null,
     "end_time": null,
     "exception": null,
     "start_time": null,
     "status": "pending"
    },
    "tags": []
   },
   "outputs": [
    {
     "data": {
      "text/plain": [
       "(204625, 159742)"
      ]
     },
     "execution_count": 33,
     "metadata": {},
     "output_type": "execute_result"
    }
   ],
   "source": [
    "#tfidf vector initililization\n",
    "from sklearn.feature_extraction.text import TfidfVectorizer\n",
    "tfidf_vect = TfidfVectorizer()\n",
    "tfidf = tfidf_vect.fit_transform(final['CleanedAbstract'].values)\n",
    "tfidf.shape"
   ]
  },
  {
   "cell_type": "code",
   "execution_count": 34,
   "id": "7af4cc32",
   "metadata": {
    "execution": {
     "iopub.execute_input": "2022-10-26T09:11:10.688209Z",
     "iopub.status.busy": "2022-10-26T09:11:10.687856Z",
     "iopub.status.idle": "2022-10-26T09:13:52.172350Z",
     "shell.execute_reply": "2022-10-26T09:13:52.171279Z",
     "shell.execute_reply.started": "2022-10-26T09:11:10.688178Z"
    },
    "papermill": {
     "duration": null,
     "end_time": null,
     "exception": null,
     "start_time": null,
     "status": "pending"
    },
    "tags": []
   },
   "outputs": [
    {
     "data": {
      "text/plain": [
       "KMeans(random_state=99)"
      ]
     },
     "execution_count": 34,
     "metadata": {},
     "output_type": "execute_result"
    }
   ],
   "source": [
    "from sklearn.cluster import KMeans\n",
    "model_tf = KMeans(n_clusters = 8,random_state=99)\n",
    "model_tf.fit(tfidf)"
   ]
  },
  {
   "cell_type": "code",
   "execution_count": 35,
   "id": "34a34fe6",
   "metadata": {
    "execution": {
     "iopub.execute_input": "2022-10-26T09:13:52.177914Z",
     "iopub.status.busy": "2022-10-26T09:13:52.177486Z",
     "iopub.status.idle": "2022-10-26T09:13:52.183882Z",
     "shell.execute_reply": "2022-10-26T09:13:52.182594Z",
     "shell.execute_reply.started": "2022-10-26T09:13:52.177883Z"
    },
    "papermill": {
     "duration": null,
     "end_time": null,
     "exception": null,
     "start_time": null,
     "status": "pending"
    },
    "tags": []
   },
   "outputs": [],
   "source": [
    "labels_tf = model_tf.labels_\n",
    "cluster_center_tf=model_tf.cluster_centers_"
   ]
  },
  {
   "cell_type": "code",
   "execution_count": 36,
   "id": "87756009",
   "metadata": {
    "execution": {
     "iopub.execute_input": "2022-10-25T11:14:03.354960Z",
     "iopub.status.busy": "2022-10-25T11:14:03.354463Z",
     "iopub.status.idle": "2022-10-25T11:14:03.370315Z",
     "shell.execute_reply": "2022-10-25T11:14:03.368751Z",
     "shell.execute_reply.started": "2022-10-25T11:14:03.354916Z"
    },
    "papermill": {
     "duration": null,
     "end_time": null,
     "exception": null,
     "start_time": null,
     "status": "pending"
    },
    "tags": []
   },
   "outputs": [
    {
     "data": {
      "text/plain": [
       "array([[0.00000000e+00, 0.00000000e+00, 0.00000000e+00, ...,\n",
       "        0.00000000e+00, 0.00000000e+00, 0.00000000e+00],\n",
       "       [1.16762130e-05, 1.28366379e-05, 0.00000000e+00, ...,\n",
       "        0.00000000e+00, 0.00000000e+00, 0.00000000e+00],\n",
       "       [3.10790112e-05, 2.18563675e-04, 0.00000000e+00, ...,\n",
       "        0.00000000e+00, 1.28775786e-05, 0.00000000e+00],\n",
       "       ...,\n",
       "       [7.19734888e-06, 1.93702887e-05, 1.25021879e-05, ...,\n",
       "        2.65872457e-06, 0.00000000e+00, 0.00000000e+00],\n",
       "       [0.00000000e+00, 2.95020182e-05, 0.00000000e+00, ...,\n",
       "        0.00000000e+00, 0.00000000e+00, 0.00000000e+00],\n",
       "       [4.39627891e-05, 9.21998710e-06, 0.00000000e+00, ...,\n",
       "        9.11656135e-06, 0.00000000e+00, 9.30935770e-06]])"
      ]
     },
     "execution_count": 36,
     "metadata": {},
     "output_type": "execute_result"
    }
   ],
   "source": [
    "cluster_center_tf"
   ]
  },
  {
   "cell_type": "code",
   "execution_count": 37,
   "id": "9303daa9",
   "metadata": {
    "execution": {
     "iopub.execute_input": "2022-10-26T09:13:52.186623Z",
     "iopub.status.busy": "2022-10-26T09:13:52.185769Z",
     "iopub.status.idle": "2022-10-26T09:13:52.361398Z",
     "shell.execute_reply": "2022-10-26T09:13:52.360354Z",
     "shell.execute_reply.started": "2022-10-26T09:13:52.186493Z"
    },
    "papermill": {
     "duration": null,
     "end_time": null,
     "exception": null,
     "start_time": null,
     "status": "pending"
    },
    "tags": []
   },
   "outputs": [
    {
     "name": "stderr",
     "output_type": "stream",
     "text": [
      "/Users/oleg-nai/opt/anaconda3/lib/python3.9/site-packages/sklearn/utils/deprecation.py:87: FutureWarning: Function get_feature_names is deprecated; get_feature_names is deprecated in 1.0 and will be removed in 1.2. Please use get_feature_names_out instead.\n",
      "  warnings.warn(msg, category=FutureWarning)\n"
     ]
    }
   ],
   "source": [
    "# to understand what kind of words generated as columns by BOW\n",
    "terms1 = tfidf_vect.get_feature_names()"
   ]
  },
  {
   "cell_type": "code",
   "execution_count": 38,
   "id": "08e2b0fe",
   "metadata": {
    "execution": {
     "iopub.execute_input": "2022-10-25T11:14:03.570764Z",
     "iopub.status.busy": "2022-10-25T11:14:03.570362Z",
     "iopub.status.idle": "2022-10-25T11:14:03.580721Z",
     "shell.execute_reply": "2022-10-25T11:14:03.579384Z",
     "shell.execute_reply.started": "2022-10-25T11:14:03.570731Z"
    },
    "papermill": {
     "duration": null,
     "end_time": null,
     "exception": null,
     "start_time": null,
     "status": "pending"
    },
    "tags": []
   },
   "outputs": [
    {
     "data": {
      "text/plain": [
       "['aaa',\n",
       " 'aaaa',\n",
       " 'aaaaa',\n",
       " 'aaaacommunica',\n",
       " 'aaac',\n",
       " 'aaai',\n",
       " 'aaam',\n",
       " 'aab',\n",
       " 'aabb']"
      ]
     },
     "execution_count": 38,
     "metadata": {},
     "output_type": "execute_result"
    }
   ],
   "source": [
    "terms1[1:10]"
   ]
  },
  {
   "cell_type": "code",
   "execution_count": 39,
   "id": "8ce12aee",
   "metadata": {
    "execution": {
     "iopub.execute_input": "2022-10-25T11:14:03.583469Z",
     "iopub.status.busy": "2022-10-25T11:14:03.582810Z",
     "iopub.status.idle": "2022-10-25T12:10:44.613677Z",
     "shell.execute_reply": "2022-10-25T12:10:44.612292Z",
     "shell.execute_reply.started": "2022-10-25T11:14:03.583428Z"
    },
    "papermill": {
     "duration": null,
     "end_time": null,
     "exception": null,
     "start_time": null,
     "status": "pending"
    },
    "tags": []
   },
   "outputs": [],
   "source": [
    "from sklearn import metrics\n",
    "silhouette_score_tf = metrics.silhouette_score(tfidf, labels_tf, metric='euclidean')"
   ]
  },
  {
   "cell_type": "code",
   "execution_count": 40,
   "id": "1c7c1804",
   "metadata": {
    "execution": {
     "iopub.execute_input": "2022-10-25T12:10:44.616730Z",
     "iopub.status.busy": "2022-10-25T12:10:44.616170Z",
     "iopub.status.idle": "2022-10-25T12:10:44.626203Z",
     "shell.execute_reply": "2022-10-25T12:10:44.624594Z",
     "shell.execute_reply.started": "2022-10-25T12:10:44.616677Z"
    },
    "papermill": {
     "duration": null,
     "end_time": null,
     "exception": null,
     "start_time": null,
     "status": "pending"
    },
    "tags": []
   },
   "outputs": [
    {
     "data": {
      "text/plain": [
       "0.00664583536422121"
      ]
     },
     "execution_count": 40,
     "metadata": {},
     "output_type": "execute_result"
    }
   ],
   "source": [
    "silhouette_score_tf"
   ]
  },
  {
   "cell_type": "code",
   "execution_count": 41,
   "id": "03a88b7a",
   "metadata": {
    "execution": {
     "iopub.execute_input": "2022-10-26T09:13:52.363222Z",
     "iopub.status.busy": "2022-10-26T09:13:52.362797Z",
     "iopub.status.idle": "2022-10-26T09:13:52.378830Z",
     "shell.execute_reply": "2022-10-26T09:13:52.377789Z",
     "shell.execute_reply.started": "2022-10-26T09:13:52.363190Z"
    },
    "papermill": {
     "duration": null,
     "end_time": null,
     "exception": null,
     "start_time": null,
     "status": "pending"
    },
    "tags": []
   },
   "outputs": [
    {
     "name": "stderr",
     "output_type": "stream",
     "text": [
      "/var/folders/1d/1ltz4mh92w75fs8jnyghsh900000gn/T/ipykernel_84520/4114300390.py:3: SettingWithCopyWarning: \n",
      "A value is trying to be set on a copy of a slice from a DataFrame.\n",
      "Try using .loc[row_indexer,col_indexer] = value instead\n",
      "\n",
      "See the caveats in the documentation: https://pandas.pydata.org/pandas-docs/stable/user_guide/indexing.html#returning-a-view-versus-a-copy\n",
      "  df1['Tfidf Clus Label'] = model_tf.labels_\n"
     ]
    },
    {
     "data": {
      "text/html": [
       "<div>\n",
       "<style scoped>\n",
       "    .dataframe tbody tr th:only-of-type {\n",
       "        vertical-align: middle;\n",
       "    }\n",
       "\n",
       "    .dataframe tbody tr th {\n",
       "        vertical-align: top;\n",
       "    }\n",
       "\n",
       "    .dataframe thead th {\n",
       "        text-align: right;\n",
       "    }\n",
       "</style>\n",
       "<table border=\"1\" class=\"dataframe\">\n",
       "  <thead>\n",
       "    <tr style=\"text-align: right;\">\n",
       "      <th></th>\n",
       "      <th>Unnamed: 0</th>\n",
       "      <th>title</th>\n",
       "      <th>abstract</th>\n",
       "      <th>CleanedAbstract</th>\n",
       "      <th>CleanedTitle</th>\n",
       "      <th>Bow Clus Label</th>\n",
       "      <th>Tfidf Clus Label</th>\n",
       "    </tr>\n",
       "  </thead>\n",
       "  <tbody>\n",
       "    <tr>\n",
       "      <th>103604</th>\n",
       "      <td>103604</td>\n",
       "      <td>Compositional Hazard Analysis of UML Componen...</td>\n",
       "      <td>The general trend towards complex technical s...</td>\n",
       "      <td>general trend toward complex technic system em...</td>\n",
       "      <td>composit hazard analysi uml compon deploy model</td>\n",
       "      <td>4</td>\n",
       "      <td>7</td>\n",
       "    </tr>\n",
       "    <tr>\n",
       "      <th>36275</th>\n",
       "      <td>36275</td>\n",
       "      <td>Dynamic Contract Layers</td>\n",
       "      <td>Design by Contract (DBC) is a programming tech...</td>\n",
       "      <td>design contract dbc program techniqu separ con...</td>\n",
       "      <td>dynam contract layer</td>\n",
       "      <td>6</td>\n",
       "      <td>5</td>\n",
       "    </tr>\n",
       "    <tr>\n",
       "      <th>297493</th>\n",
       "      <td>297493</td>\n",
       "      <td>From model transformation to incremental bidi...</td>\n",
       "      <td>The model-driven software development paradig...</td>\n",
       "      <td>softwar develop paradigm requir appropri model...</td>\n",
       "      <td>model transform increment bidirect model synchron</td>\n",
       "      <td>3</td>\n",
       "      <td>7</td>\n",
       "    </tr>\n",
       "    <tr>\n",
       "      <th>65386</th>\n",
       "      <td>65386</td>\n",
       "      <td>Incremental Model Synchronization for Efficie...</td>\n",
       "      <td>The model-driven engineering community has de...</td>\n",
       "      <td>engin communiti develop express model transfor...</td>\n",
       "      <td>increment model synchron effici monitor</td>\n",
       "      <td>3</td>\n",
       "      <td>7</td>\n",
       "    </tr>\n",
       "    <tr>\n",
       "      <th>201515</th>\n",
       "      <td>201515</td>\n",
       "      <td>Max-Margin Markov Networks</td>\n",
       "      <td>In typical classification tasks, we seek a fun...</td>\n",
       "      <td>typic classif task seek function assign label ...</td>\n",
       "      <td>markov network</td>\n",
       "      <td>8</td>\n",
       "      <td>4</td>\n",
       "    </tr>\n",
       "  </tbody>\n",
       "</table>\n",
       "</div>"
      ],
      "text/plain": [
       "        Unnamed: 0                                              title  \\\n",
       "103604      103604   Compositional Hazard Analysis of UML Componen...   \n",
       "36275        36275                           Dynamic Contract Layers    \n",
       "297493      297493   From model transformation to incremental bidi...   \n",
       "65386        65386   Incremental Model Synchronization for Efficie...   \n",
       "201515      201515                         Max-Margin Markov Networks   \n",
       "\n",
       "                                                 abstract  \\\n",
       "103604   The general trend towards complex technical s...   \n",
       "36275   Design by Contract (DBC) is a programming tech...   \n",
       "297493   The model-driven software development paradig...   \n",
       "65386    The model-driven engineering community has de...   \n",
       "201515  In typical classification tasks, we seek a fun...   \n",
       "\n",
       "                                          CleanedAbstract  \\\n",
       "103604  general trend toward complex technic system em...   \n",
       "36275   design contract dbc program techniqu separ con...   \n",
       "297493  softwar develop paradigm requir appropri model...   \n",
       "65386   engin communiti develop express model transfor...   \n",
       "201515  typic classif task seek function assign label ...   \n",
       "\n",
       "                                             CleanedTitle  Bow Clus Label  \\\n",
       "103604    composit hazard analysi uml compon deploy model               4   \n",
       "36275                                dynam contract layer               6   \n",
       "297493  model transform increment bidirect model synchron               3   \n",
       "65386             increment model synchron effici monitor               3   \n",
       "201515                                     markov network               8   \n",
       "\n",
       "        Tfidf Clus Label  \n",
       "103604                 7  \n",
       "36275                  5  \n",
       "297493                 7  \n",
       "65386                  7  \n",
       "201515                 4  "
      ]
     },
     "execution_count": 41,
     "metadata": {},
     "output_type": "execute_result"
    }
   ],
   "source": [
    "# Giving Labels/assigning a cluster to each point/text \n",
    "df1 = df\n",
    "df1['Tfidf Clus Label'] = model_tf.labels_\n",
    "df1.head(5)"
   ]
  },
  {
   "cell_type": "code",
   "execution_count": 42,
   "id": "10f22338",
   "metadata": {
    "execution": {
     "iopub.execute_input": "2022-10-26T09:13:52.380697Z",
     "iopub.status.busy": "2022-10-26T09:13:52.380376Z",
     "iopub.status.idle": "2022-10-26T09:13:52.424364Z",
     "shell.execute_reply": "2022-10-26T09:13:52.423280Z",
     "shell.execute_reply.started": "2022-10-26T09:13:52.380668Z"
    },
    "papermill": {
     "duration": null,
     "end_time": null,
     "exception": null,
     "start_time": null,
     "status": "pending"
    },
    "tags": []
   },
   "outputs": [
    {
     "data": {
      "text/plain": [
       "Tfidf Clus Label\n",
       "0     1167\n",
       "1     8924\n",
       "2    13183\n",
       "3    31662\n",
       "4    33568\n",
       "5    79986\n",
       "6     5165\n",
       "7    30970\n",
       "Name: abstract, dtype: int64"
      ]
     },
     "execution_count": 42,
     "metadata": {},
     "output_type": "execute_result"
    }
   ],
   "source": [
    "df1.groupby(['Tfidf Clus Label'])['abstract'].count()"
   ]
  },
  {
   "cell_type": "code",
   "execution_count": 43,
   "id": "bc14dd9e",
   "metadata": {
    "execution": {
     "iopub.execute_input": "2022-10-26T09:11:10.370045Z",
     "iopub.status.busy": "2022-10-26T09:11:10.369700Z",
     "iopub.status.idle": "2022-10-26T09:11:10.431439Z",
     "shell.execute_reply": "2022-10-26T09:11:10.430242Z",
     "shell.execute_reply.started": "2022-10-26T09:11:10.370015Z"
    },
    "papermill": {
     "duration": null,
     "end_time": null,
     "exception": null,
     "start_time": null,
     "status": "pending"
    },
    "tags": []
   },
   "outputs": [
    {
     "name": "stdout",
     "output_type": "stream",
     "text": [
      "Top terms per cluster:\n",
      "Cluster 0: abstract\n",
      " without\n",
      " avail\n",
      " graphic\n",
      " subscript\n",
      " model\n",
      " program\n",
      " refin\n",
      "Cluster 1: imag\n",
      " method\n",
      " segment\n",
      " use\n",
      " propos\n",
      " featur\n",
      " object\n",
      " algorithm\n",
      "Cluster 2: network\n",
      " node\n",
      " wireless\n",
      " protocol\n",
      " rout\n",
      " sensor\n",
      " traffic\n",
      " mobil\n",
      "Cluster 3: user\n",
      " servic\n",
      " inform\n",
      " data\n",
      " web\n",
      " system\n",
      " use\n",
      " technolog\n",
      "Cluster 4: algorithm\n",
      " problem\n",
      " method\n",
      " optim\n",
      " propos\n",
      " use\n",
      " data\n",
      " result\n",
      "Cluster 5: use\n",
      " paper\n",
      " result\n",
      " model\n",
      " set\n",
      " system\n",
      " present\n",
      " function\n",
      "Cluster 6: graph\n",
      " vertic\n",
      " edg\n",
      " vertex\n",
      " number\n",
      " problem\n",
      " algorithm\n",
      " subgraph\n",
      "Cluster 7: system\n",
      " model\n",
      " program\n",
      " softwar\n",
      " design\n",
      " languag\n",
      " use\n",
      " develop\n"
     ]
    }
   ],
   "source": [
    "#Refrence credit - to find the top 10 features of cluster centriod\n",
    "#https://stackoverflow.com/questions/47452119/kmean-clustering-top-terms-in-cluster\n",
    "print(\"Top terms per cluster:\")\n",
    "order_centroids = model_tf.cluster_centers_.argsort()[:, ::-1]\n",
    "for i in range(8):\n",
    "    print(\"Cluster %d:\" % i, end='')\n",
    "    for ind in order_centroids[i, :8]:\n",
    "        print(' %s' % terms1[ind], end='')\n",
    "        print()"
   ]
  },
  {
   "cell_type": "code",
   "execution_count": 44,
   "id": "402c44bd",
   "metadata": {
    "execution": {
     "iopub.execute_input": "2022-10-26T09:11:10.433323Z",
     "iopub.status.busy": "2022-10-26T09:11:10.432874Z",
     "iopub.status.idle": "2022-10-26T09:11:10.686574Z",
     "shell.execute_reply": "2022-10-26T09:11:10.685479Z",
     "shell.execute_reply.started": "2022-10-26T09:11:10.433282Z"
    },
    "papermill": {
     "duration": null,
     "end_time": null,
     "exception": null,
     "start_time": null,
     "status": "pending"
    },
    "tags": []
   },
   "outputs": [
    {
     "data": {
      "image/png": "[encoded data removed]",
      "text/plain": [
       "<Figure size 640x480 with 1 Axes>"
      ]
     },
     "metadata": {},
     "output_type": "display_data"
    }
   ],
   "source": [
    "# visually how points or reviews are distributed across 10 clusters \n",
    "\n",
    "plt.bar([x for x in range(8)], df1.groupby(['Tfidf Clus Label'])['abstract'].count(), alpha = 0.4)\n",
    "plt.title('KMeans cluster points')\n",
    "plt.xlabel(\"Cluster number\")\n",
    "plt.ylabel(\"Number of points\")\n",
    "plt.show()"
   ]
  },
  {
   "cell_type": "code",
   "execution_count": 46,
   "id": "ad7fed03",
   "metadata": {
    "execution": {
     "iopub.execute_input": "2022-10-25T12:24:25.258722Z",
     "iopub.status.busy": "2022-10-25T12:24:25.258242Z",
     "iopub.status.idle": "2022-10-25T12:24:25.300735Z",
     "shell.execute_reply": "2022-10-25T12:24:25.298669Z",
     "shell.execute_reply.started": "2022-10-25T12:24:25.258687Z"
    },
    "papermill": {
     "duration": null,
     "end_time": null,
     "exception": null,
     "start_time": null,
     "status": "pending"
    },
    "tags": []
   },
   "outputs": [
    {
     "name": "stdout",
     "output_type": "stream",
     "text": [
      "4 review of assigned to cluster  0\n",
      "----------------------------------------------------------------------\n",
      "103604     The general trend towards complex technical s...\n",
      "36275     Design by Contract (DBC) is a programming tech...\n",
      "297493     The model-driven software development paradig...\n",
      "65386      The model-driven engineering community has de...\n",
      "201515    In typical classification tasks, we seek a fun...\n",
      "                                ...                        \n",
      "211576    Many computer science departments are debating...\n",
      "153128    In this paper, an Hfrinfin/LPV observer to be ...\n",
      "271444    This paper studies the ℒ2 (mean-square) optima...\n",
      "217880    In this paper, the problem of ℓ1-induced contr...\n",
      "70057     A new stationary subdivision scheme is present...\n",
      "Name: abstract, Length: 204625, dtype: object\n",
      "\n",
      "\n",
      "103604     The general trend towards complex technical s...\n",
      "36275     Design by Contract (DBC) is a programming tech...\n",
      "297493     The model-driven software development paradig...\n",
      "65386      The model-driven engineering community has de...\n",
      "201515    In typical classification tasks, we seek a fun...\n",
      "                                ...                        \n",
      "214105    This paper presents a class of fuzzy cognitive...\n",
      "202939    In this paper we propose two new multi-layer g...\n",
      "196885    The XML documents that represent legal resourc...\n",
      "292032    In this article we develop an extension of the...\n",
      "291968    With the increasing deployment of ATM, applica...\n",
      "Name: abstract, Length: 121995, dtype: object\n",
      "\n",
      "\n",
      "103604     The general trend towards complex technical s...\n",
      "36275     Design by Contract (DBC) is a programming tech...\n",
      "297493     The model-driven software development paradig...\n",
      "65386      The model-driven engineering community has de...\n",
      "201515    In typical classification tasks, we seek a fun...\n",
      "                                ...                        \n",
      "123125    Simulation has become the tool of choice for a...\n",
      "83412     A central challenge for the complex network an...\n",
      "288013    Random number generators are a core component ...\n",
      "108600    In this paper, we evaluate the effectiveness a...\n",
      "104207    Often, it is necessary to evaluate the mid-sec...\n",
      "Name: abstract, Length: 76689, dtype: object\n",
      "\n",
      "\n",
      "______________________________________________________________________\n",
      "4 review of assigned to cluster  1\n",
      "----------------------------------------------------------------------\n",
      "103604     The general trend towards complex technical s...\n",
      "36275     Design by Contract (DBC) is a programming tech...\n",
      "297493     The model-driven software development paradig...\n",
      "65386      The model-driven engineering community has de...\n",
      "201515    In typical classification tasks, we seek a fun...\n",
      "                                ...                        \n",
      "211576    Many computer science departments are debating...\n",
      "153128    In this paper, an Hfrinfin/LPV observer to be ...\n",
      "271444    This paper studies the ℒ2 (mean-square) optima...\n",
      "217880    In this paper, the problem of ℓ1-induced contr...\n",
      "70057     A new stationary subdivision scheme is present...\n",
      "Name: abstract, Length: 204625, dtype: object\n",
      "\n",
      "\n",
      "103604     The general trend towards complex technical s...\n",
      "36275     Design by Contract (DBC) is a programming tech...\n",
      "297493     The model-driven software development paradig...\n",
      "65386      The model-driven engineering community has de...\n",
      "201515    In typical classification tasks, we seek a fun...\n",
      "                                ...                        \n",
      "66636     Collaboration through the internet has proven ...\n",
      "264787    Computer science and especially heterogeneous ...\n",
      "89378     Abstract One of the key debates in contemporar...\n",
      "72195     Languages and technologies used to implement c...\n",
      "66874     The presence of characteristic fine folds is i...\n",
      "Name: abstract, Length: 203357, dtype: object\n",
      "\n",
      "\n",
      "103604     The general trend towards complex technical s...\n",
      "36275     Design by Contract (DBC) is a programming tech...\n",
      "297493     The model-driven software development paradig...\n",
      "65386      The model-driven engineering community has de...\n",
      "201515    In typical classification tasks, we seek a fun...\n",
      "                                ...                        \n",
      "99571     We describe an algebraic technique for constru...\n",
      "258824    In vol. 32 of this Journal, G.E. Collins repor...\n",
      "19262     By plotting the key value against the record p...\n",
      "158272    It follows from a theorem of Markov that the m...\n",
      "157096    In this paper, a Taylor collocation method has...\n",
      "Name: abstract, Length: 143774, dtype: object\n",
      "\n",
      "\n",
      "______________________________________________________________________\n",
      "4 review of assigned to cluster  2\n",
      "----------------------------------------------------------------------\n",
      "103604     The general trend towards complex technical s...\n",
      "36275     Design by Contract (DBC) is a programming tech...\n",
      "297493     The model-driven software development paradig...\n",
      "65386      The model-driven engineering community has de...\n",
      "201515    In typical classification tasks, we seek a fun...\n",
      "                                ...                        \n",
      "211576    Many computer science departments are debating...\n",
      "153128    In this paper, an Hfrinfin/LPV observer to be ...\n",
      "271444    This paper studies the ℒ2 (mean-square) optima...\n",
      "217880    In this paper, the problem of ℓ1-induced contr...\n",
      "70057     A new stationary subdivision scheme is present...\n",
      "Name: abstract, Length: 204625, dtype: object\n",
      "\n",
      "\n",
      "103604     The general trend towards complex technical s...\n",
      "36275     Design by Contract (DBC) is a programming tech...\n",
      "297493     The model-driven software development paradig...\n",
      "65386      The model-driven engineering community has de...\n",
      "201515    In typical classification tasks, we seek a fun...\n",
      "                                ...                        \n",
      "211576    Many computer science departments are debating...\n",
      "153128    In this paper, an Hfrinfin/LPV observer to be ...\n",
      "271444    This paper studies the ℒ2 (mean-square) optima...\n",
      "217880    In this paper, the problem of ℓ1-induced contr...\n",
      "70057     A new stationary subdivision scheme is present...\n",
      "Name: abstract, Length: 204625, dtype: object\n",
      "\n",
      "\n",
      "103604     The general trend towards complex technical s...\n",
      "36275     Design by Contract (DBC) is a programming tech...\n",
      "297493     The model-driven software development paradig...\n",
      "65386      The model-driven engineering community has de...\n",
      "201515    In typical classification tasks, we seek a fun...\n",
      "                                ...                        \n",
      "211576    Many computer science departments are debating...\n",
      "153128    In this paper, an Hfrinfin/LPV observer to be ...\n",
      "271444    This paper studies the ℒ2 (mean-square) optima...\n",
      "217880    In this paper, the problem of ℓ1-induced contr...\n",
      "70057     A new stationary subdivision scheme is present...\n",
      "Name: abstract, Length: 204625, dtype: object\n",
      "\n",
      "\n",
      "______________________________________________________________________\n",
      "4 review of assigned to cluster  3\n",
      "----------------------------------------------------------------------\n",
      "103604     The general trend towards complex technical s...\n",
      "36275     Design by Contract (DBC) is a programming tech...\n",
      "297493     The model-driven software development paradig...\n",
      "65386      The model-driven engineering community has de...\n",
      "201515    In typical classification tasks, we seek a fun...\n",
      "                                ...                        \n",
      "202778    The computing power of modern high performance...\n",
      "267526    In Information Retrieval (IR), the efficient i...\n",
      "205077    Mining closed frequent item set(CFI) plays a f...\n",
      "284357    Since 1985, the Ocean Drilling Program (ODP) h...\n",
      "200793    Arranging a social meeting often involves coll...\n",
      "Name: abstract, Length: 114525, dtype: object\n",
      "\n",
      "\n",
      "103604     The general trend towards complex technical s...\n",
      "36275     Design by Contract (DBC) is a programming tech...\n",
      "297493     The model-driven software development paradig...\n",
      "65386      The model-driven engineering community has de...\n",
      "201515    In typical classification tasks, we seek a fun...\n",
      "                                ...                        \n",
      "195660    The problems encountered in applying object-or...\n",
      "90815     Many quality practitioners rely on auditing to...\n",
      "174433    The goal of learning systems is to generalize....\n",
      "28128     We focus on checking safety properties in netw...\n",
      "119539    Generic load balancing policies for irregular ...\n",
      "Name: abstract, Length: 196576, dtype: object\n",
      "\n",
      "\n",
      "103604     The general trend towards complex technical s...\n",
      "36275     Design by Contract (DBC) is a programming tech...\n",
      "297493     The model-driven software development paradig...\n",
      "65386      The model-driven engineering community has de...\n",
      "201515    In typical classification tasks, we seek a fun...\n",
      "                                ...                        \n",
      "41030     Image representation and distance metric are b...\n",
      "86294     Manifold learning is an effective feature extr...\n",
      "95064     In this paper, a novel feature extraction meth...\n",
      "169784    We present an approach to discriminant-based M...\n",
      "170993    For a semialgebraic set K in R^n, let P\"d(K)={...\n",
      "Name: abstract, Length: 66333, dtype: object\n",
      "\n",
      "\n",
      "______________________________________________________________________\n",
      "4 review of assigned to cluster  4\n",
      "----------------------------------------------------------------------\n",
      "103604     The general trend towards complex technical s...\n",
      "36275     Design by Contract (DBC) is a programming tech...\n",
      "297493     The model-driven software development paradig...\n",
      "65386      The model-driven engineering community has de...\n",
      "201515    In typical classification tasks, we seek a fun...\n",
      "                                ...                        \n",
      "28859     Significant work has been done towards achievi...\n",
      "112699    This paper synthesizes the actions performed i...\n",
      "211935    \\n To study the genetic variations of a specie...\n",
      "212819    Spatio-temporal objects — that is, objects tha...\n",
      "272140    Abstract: This paper presents an application t...\n",
      "Name: abstract, Length: 99854, dtype: object\n",
      "\n",
      "\n",
      "103604     The general trend towards complex technical s...\n",
      "36275     Design by Contract (DBC) is a programming tech...\n",
      "297493     The model-driven software development paradig...\n",
      "65386      The model-driven engineering community has de...\n",
      "201515    In typical classification tasks, we seek a fun...\n",
      "                                ...                        \n",
      "85880     Modern medical monitor systems shoulder the re...\n",
      "154343    Simulation methods are extensively used in mod...\n",
      "141496    Data sharing is pivotal in current medical pra...\n",
      "280294    A new cluster based event-driven algorithm is ...\n",
      "274031    Energy constraint is a crucial factor in wirel...\n",
      "Name: abstract, Length: 28003, dtype: object\n",
      "\n",
      "\n",
      "103604     The general trend towards complex technical s...\n",
      "36275     Design by Contract (DBC) is a programming tech...\n",
      "297493     The model-driven software development paradig...\n",
      "65386      The model-driven engineering community has de...\n",
      "201515    In typical classification tasks, we seek a fun...\n",
      "                                ...                        \n",
      "189660    We are constructing caching policies that have...\n",
      "81129     This paper presents a new hardware-oriented ap...\n",
      "189974    This paper presents a Chinese word segmen- tat...\n",
      "65749     In this paper, we describe our oating-gate pFE...\n",
      "144646    Clock synchronization is a fundamental issue i...\n",
      "Name: abstract, Length: 21311, dtype: object\n",
      "\n",
      "\n",
      "______________________________________________________________________\n",
      "4 review of assigned to cluster  5\n",
      "----------------------------------------------------------------------\n",
      "103604     The general trend towards complex technical s...\n",
      "36275     Design by Contract (DBC) is a programming tech...\n",
      "297493     The model-driven software development paradig...\n",
      "65386      The model-driven engineering community has de...\n",
      "201515    In typical classification tasks, we seek a fun...\n",
      "                                ...                        \n",
      "267126    The configuration of WLAN MAC by means of Supe...\n",
      "87687     In this paper, we examine a supply chain in wh...\n",
      "90658     The success of supply chains depends on the ma...\n",
      "153144    Rapidly changing market conditions and IT syst...\n",
      "154014    This work presents an infrastructure that simp...\n",
      "Name: abstract, Length: 69019, dtype: object\n",
      "\n",
      "\n",
      "103604     The general trend towards complex technical s...\n",
      "36275     Design by Contract (DBC) is a programming tech...\n",
      "297493     The model-driven software development paradig...\n",
      "65386      The model-driven engineering community has de...\n",
      "201515    In typical classification tasks, we seek a fun...\n",
      "                                ...                        \n",
      "59945     Individual facts in the real world are represe...\n",
      "155162    In this paper, the control of the pulsewidth-m...\n",
      "226937    We introduce the visible k nearest neighbor (V...\n",
      "224039    Languages such as SystemVerilog and e play an ...\n",
      "222522    Five special forms for a von Neumann-Morgenste...\n",
      "Name: abstract, Length: 204497, dtype: object\n",
      "\n",
      "\n",
      "103604     The general trend towards complex technical s...\n",
      "36275     Design by Contract (DBC) is a programming tech...\n",
      "297493     The model-driven software development paradig...\n",
      "65386      The model-driven engineering community has de...\n",
      "201515    In typical classification tasks, we seek a fun...\n",
      "                                ...                        \n",
      "152413    This paper illustrates the role of a class of ...\n",
      "263963    Online forum give people new opportunities to ...\n",
      "299387    This paper considers packetized voice and vide...\n",
      "263228    This paper proposes and evaluates the use of l...\n",
      "73295     Dynamic and resource-constrained environments ...\n",
      "Name: abstract, Length: 29360, dtype: object\n",
      "\n",
      "\n",
      "______________________________________________________________________\n",
      "4 review of assigned to cluster  6\n",
      "----------------------------------------------------------------------\n",
      "103604     The general trend towards complex technical s...\n",
      "36275     Design by Contract (DBC) is a programming tech...\n",
      "297493     The model-driven software development paradig...\n",
      "65386      The model-driven engineering community has de...\n",
      "201515    In typical classification tasks, we seek a fun...\n",
      "                                ...                        \n",
      "272695    The interleaving of concurrent processes actio...\n",
      "72982     In a direct-mapped instruction cache, all inst...\n",
      "194114    We control a population of interacting softwar...\n",
      "197193    Stabilizing unstable periodic orbits in a chao...\n",
      "77170     In agent-based markets, adapting to the behavi...\n",
      "Name: abstract, Length: 21212, dtype: object\n",
      "\n",
      "\n",
      "103604     The general trend towards complex technical s...\n",
      "36275     Design by Contract (DBC) is a programming tech...\n",
      "297493     The model-driven software development paradig...\n",
      "65386      The model-driven engineering community has de...\n",
      "201515    In typical classification tasks, we seek a fun...\n",
      "                                ...                        \n",
      "211576    Many computer science departments are debating...\n",
      "153128    In this paper, an Hfrinfin/LPV observer to be ...\n",
      "271444    This paper studies the ℒ2 (mean-square) optima...\n",
      "217880    In this paper, the problem of ℓ1-induced contr...\n",
      "70057     A new stationary subdivision scheme is present...\n",
      "Name: abstract, Length: 204625, dtype: object\n",
      "\n",
      "\n",
      "103604     The general trend towards complex technical s...\n",
      "36275     Design by Contract (DBC) is a programming tech...\n",
      "297493     The model-driven software development paradig...\n",
      "65386      The model-driven engineering community has de...\n",
      "201515    In typical classification tasks, we seek a fun...\n",
      "                                ...                        \n",
      "211576    Many computer science departments are debating...\n",
      "153128    In this paper, an Hfrinfin/LPV observer to be ...\n",
      "271444    This paper studies the ℒ2 (mean-square) optima...\n",
      "217880    In this paper, the problem of ℓ1-induced contr...\n",
      "70057     A new stationary subdivision scheme is present...\n",
      "Name: abstract, Length: 204625, dtype: object\n",
      "\n",
      "\n",
      "______________________________________________________________________\n"
     ]
    }
   ],
   "source": [
    "# Reading a review which belong to each group.\n",
    "for i in range(7):\n",
    "    print(\"4 review of assigned to cluster \", i)\n",
    "    print(\"-\" * 70)\n",
    "    print(df1.iloc[:df1.groupby(['Tfidf Clus Label']).groups[i][5]]['abstract'])\n",
    "    print('\\n')\n",
    "    print(df1.iloc[:df1.groupby(['Tfidf Clus Label']).groups[i][10]]['abstract'])\n",
    "    print('\\n')\n",
    "    print(df1.iloc[:df1.groupby(['Tfidf Clus Label']).groups[i][20]]['abstract'])\n",
    "    print('\\n')\n",
    "    print(\"_\" * 70)"
   ]
  },
  {
   "cell_type": "markdown",
   "id": "4ded7b0c",
   "metadata": {
    "papermill": {
     "duration": null,
     "end_time": null,
     "exception": null,
     "start_time": null,
     "status": "pending"
    },
    "tags": []
   },
   "source": [
    "Average Word to Vector"
   ]
  },
  {
   "cell_type": "markdown",
   "id": "2793d0c7",
   "metadata": {
    "papermill": {
     "duration": null,
     "end_time": null,
     "exception": null,
     "start_time": null,
     "status": "pending"
    },
    "tags": []
   },
   "source": []
  },
  {
   "cell_type": "code",
   "execution_count": 47,
   "id": "13b1417a",
   "metadata": {
    "execution": {
     "iopub.execute_input": "2022-10-26T09:13:52.426017Z",
     "iopub.status.busy": "2022-10-26T09:13:52.425659Z",
     "iopub.status.idle": "2022-10-26T09:13:54.822564Z",
     "shell.execute_reply": "2022-10-26T09:13:54.821592Z",
     "shell.execute_reply.started": "2022-10-26T09:13:52.425985Z"
    },
    "papermill": {
     "duration": null,
     "end_time": null,
     "exception": null,
     "start_time": null,
     "status": "pending"
    },
    "tags": []
   },
   "outputs": [],
   "source": [
    "# Train your own Word2Vec model using your own text corpus\n",
    "i=0\n",
    "list_of_sent=[]\n",
    "for sent in final['CleanedAbstract'].values:\n",
    "    list_of_sent.append(sent.split())"
   ]
  },
  {
   "cell_type": "code",
   "execution_count": 48,
   "id": "976cff13",
   "metadata": {
    "execution": {
     "iopub.execute_input": "2022-10-26T09:13:54.825162Z",
     "iopub.status.busy": "2022-10-26T09:13:54.824082Z",
     "iopub.status.idle": "2022-10-26T09:13:54.831523Z",
     "shell.execute_reply": "2022-10-26T09:13:54.830461Z",
     "shell.execute_reply.started": "2022-10-26T09:13:54.825116Z"
    },
    "papermill": {
     "duration": null,
     "end_time": null,
     "exception": null,
     "start_time": null,
     "status": "pending"
    },
    "tags": []
   },
   "outputs": [
    {
     "name": "stdout",
     "output_type": "stream",
     "text": [
      "general trend toward complex technic system embed softwar result increas demand depend high qualiti softwar uml advanc technolog provid principl essenti concept requir handl increas complex softwar system howev current forthcom uml version direct appli outlin problem avail hazard analysi techniqu hand provid requir degre integr softwar design notat narrow gap system develop uml techniqu present approach support composit hazard analysi uml model describ restrict compon deploy diagram approach permit systemat identifi hazard failur serious compon set compon requir detail safeti analysi restrict failur propag assum uml design\n",
      "*****************************************************************\n",
      "['general', 'trend', 'toward', 'complex', 'technic', 'system', 'embed', 'softwar', 'result', 'increas', 'demand', 'depend', 'high', 'qualiti', 'softwar', 'uml', 'advanc', 'technolog', 'provid', 'principl', 'essenti', 'concept', 'requir', 'handl', 'increas', 'complex', 'softwar', 'system', 'howev', 'current', 'forthcom', 'uml', 'version', 'direct', 'appli', 'outlin', 'problem', 'avail', 'hazard', 'analysi', 'techniqu', 'hand', 'provid', 'requir', 'degre', 'integr', 'softwar', 'design', 'notat', 'narrow', 'gap', 'system', 'develop', 'uml', 'techniqu', 'present', 'approach', 'support', 'composit', 'hazard', 'analysi', 'uml', 'model', 'describ', 'restrict', 'compon', 'deploy', 'diagram', 'approach', 'permit', 'systemat', 'identifi', 'hazard', 'failur', 'serious', 'compon', 'set', 'compon', 'requir', 'detail', 'safeti', 'analysi', 'restrict', 'failur', 'propag', 'assum', 'uml', 'design']\n"
     ]
    }
   ],
   "source": [
    "print(final['CleanedAbstract'].values[0])\n",
    "print(\"*****************************************************************\")\n",
    "print(list_of_sent[0])"
   ]
  },
  {
   "cell_type": "code",
   "execution_count": 49,
   "id": "8f6cc36e",
   "metadata": {
    "execution": {
     "iopub.execute_input": "2022-10-26T09:13:54.833548Z",
     "iopub.status.busy": "2022-10-26T09:13:54.833141Z",
     "iopub.status.idle": "2022-10-26T09:13:54.841183Z",
     "shell.execute_reply": "2022-10-26T09:13:54.840296Z",
     "shell.execute_reply.started": "2022-10-26T09:13:54.833508Z"
    },
    "papermill": {
     "duration": null,
     "end_time": null,
     "exception": null,
     "start_time": null,
     "status": "pending"
    },
    "tags": []
   },
   "outputs": [],
   "source": [
    "# removing html tags and apostrophes if present.\n",
    "import re\n",
    "def cleanhtml(sentence): #function to clean the word of any html-tags\n",
    "    cleanr = re.compile('<.*?>')\n",
    "    cleantext = re.sub(cleanr, ' ', sentence)\n",
    "    return cleantext\n",
    "def cleanpunc(sentence): #function to clean the word of any punctuation or special characters\n",
    "    cleaned = re.sub(r'[?|!|\\'|\"|#]',r'',sentence)\n",
    "    cleaned = re.sub(r'[.|,|)|(|\\|/]',r' ',cleaned)\n",
    "    return  cleaned"
   ]
  },
  {
   "cell_type": "code",
   "execution_count": 51,
   "id": "219d6494",
   "metadata": {
    "execution": {
     "iopub.execute_input": "2022-10-26T09:13:54.843314Z",
     "iopub.status.busy": "2022-10-26T09:13:54.842695Z",
     "iopub.status.idle": "2022-10-26T09:14:44.719495Z",
     "shell.execute_reply": "2022-10-26T09:14:44.718559Z",
     "shell.execute_reply.started": "2022-10-26T09:13:54.843273Z"
    },
    "papermill": {
     "duration": null,
     "end_time": null,
     "exception": null,
     "start_time": null,
     "status": "pending"
    },
    "tags": []
   },
   "outputs": [],
   "source": [
    "i=0\n",
    "list_of_sent_train=[]\n",
    "for sent in final['CleanedAbstract'].values:\n",
    "    filtered_sentence=[]\n",
    "    sent=cleanhtml(sent)\n",
    "    for w in sent.split():\n",
    "        for cleaned_words in cleanpunc(w).split():\n",
    "            if(cleaned_words.isalpha()):    \n",
    "                filtered_sentence.append(cleaned_words.lower())\n",
    "            else:\n",
    "                continue \n",
    "    list_of_sent_train.append(filtered_sentence)"
   ]
  },
  {
   "cell_type": "code",
   "execution_count": 52,
   "id": "e8aaceba",
   "metadata": {
    "execution": {
     "iopub.execute_input": "2022-10-26T09:14:44.721226Z",
     "iopub.status.busy": "2022-10-26T09:14:44.720818Z",
     "iopub.status.idle": "2022-10-26T09:15:47.824609Z",
     "shell.execute_reply": "2022-10-26T09:15:47.823629Z",
     "shell.execute_reply.started": "2022-10-26T09:14:44.721198Z"
    },
    "papermill": {
     "duration": null,
     "end_time": null,
     "exception": null,
     "start_time": null,
     "status": "pending"
    },
    "tags": []
   },
   "outputs": [],
   "source": [
    "import gensim\n",
    "# Training the wor2vec model using train dataset\n",
    "w2v_model=gensim.models.Word2Vec(list_of_sent_train,vector_size=100, workers=4)"
   ]
  },
  {
   "cell_type": "code",
   "execution_count": 53,
   "id": "40d99a5c",
   "metadata": {
    "execution": {
     "iopub.execute_input": "2022-10-26T09:15:47.827245Z",
     "iopub.status.busy": "2022-10-26T09:15:47.825886Z",
     "iopub.status.idle": "2022-10-26T09:16:45.748632Z",
     "shell.execute_reply": "2022-10-26T09:16:45.747571Z",
     "shell.execute_reply.started": "2022-10-26T09:15:47.827209Z"
    },
    "papermill": {
     "duration": null,
     "end_time": null,
     "exception": null,
     "start_time": null,
     "status": "pending"
    },
    "tags": []
   },
   "outputs": [
    {
     "name": "stderr",
     "output_type": "stream",
     "text": [
      "/var/folders/1d/1ltz4mh92w75fs8jnyghsh900000gn/T/ipykernel_84520/2068892558.py:13: RuntimeWarning: invalid value encountered in true_divide\n",
      "  sent_vec /= cnt_words\n"
     ]
    },
    {
     "data": {
      "text/plain": [
       "(204625, 100)"
      ]
     },
     "execution_count": 53,
     "metadata": {},
     "output_type": "execute_result"
    }
   ],
   "source": [
    "import numpy as np\n",
    "sent_vectors = []; # the avg-w2v for each sentence/review is stored in this train\n",
    "for sent in list_of_sent_train: # for each review/sentence\n",
    "    sent_vec = np.zeros(100) # as word vectors are of zero length\n",
    "    cnt_words =0; # num of words with a valid vector in the sentence/review\n",
    "    for word in sent: # for each word in a review/sentence\n",
    "        try:\n",
    "            vec = w2v_model.wv[word]\n",
    "            sent_vec += vec\n",
    "            cnt_words += 1\n",
    "        except:\n",
    "            pass\n",
    "    sent_vec /= cnt_words\n",
    "    sent_vectors.append(sent_vec)\n",
    "sent_vectors = np.array(sent_vectors)\n",
    "sent_vectors = np.nan_to_num(sent_vectors)\n",
    "sent_vectors.shape"
   ]
  },
  {
   "cell_type": "markdown",
   "id": "e290e8d9",
   "metadata": {
    "papermill": {
     "duration": null,
     "end_time": null,
     "exception": null,
     "start_time": null,
     "status": "pending"
    },
    "tags": []
   },
   "source": [
    "K Means CLustering for Avg word to vectors"
   ]
  },
  {
   "cell_type": "code",
   "execution_count": 54,
   "id": "8d4ff3e8",
   "metadata": {
    "execution": {
     "iopub.execute_input": "2022-10-26T09:16:45.750357Z",
     "iopub.status.busy": "2022-10-26T09:16:45.749956Z",
     "iopub.status.idle": "2022-10-26T09:16:45.756684Z",
     "shell.execute_reply": "2022-10-26T09:16:45.755799Z",
     "shell.execute_reply.started": "2022-10-26T09:16:45.750256Z"
    },
    "papermill": {
     "duration": null,
     "end_time": null,
     "exception": null,
     "start_time": null,
     "status": "pending"
    },
    "tags": []
   },
   "outputs": [
    {
     "data": {
      "text/plain": [
       "[3, 4, 5, 6, 7, 8, 9, 10]"
      ]
     },
     "execution_count": 54,
     "metadata": {},
     "output_type": "execute_result"
    }
   ],
   "source": [
    "# Number of clusters to check.\n",
    "num_clus = [x for x in range(3,11)]\n",
    "num_clus"
   ]
  },
  {
   "cell_type": "code",
   "execution_count": 56,
   "id": "0a4ad4ea",
   "metadata": {
    "execution": {
     "iopub.execute_input": "2022-10-26T09:16:45.758318Z",
     "iopub.status.busy": "2022-10-26T09:16:45.758019Z",
     "iopub.status.idle": "2022-10-26T09:18:52.452453Z",
     "shell.execute_reply": "2022-10-26T09:18:52.451382Z",
     "shell.execute_reply.started": "2022-10-26T09:16:45.758291Z"
    },
    "papermill": {
     "duration": null,
     "end_time": null,
     "exception": null,
     "start_time": null,
     "status": "pending"
    },
    "tags": []
   },
   "outputs": [
    {
     "data": {
      "image/png": "[encoded data removed]",
      "text/plain": [
       "<Figure size 640x480 with 1 Axes>"
      ]
     },
     "metadata": {},
     "output_type": "display_data"
    },
    {
     "name": "stdout",
     "output_type": "stream",
     "text": [
      "The optimal number of clusters obtained is -  9\n",
      "The loss for optimal cluster is -  2014943.0454941837\n"
     ]
    }
   ],
   "source": [
    "# Choosing the best cluster using Elbow Method.\n",
    "# source credit,few parts of min squred loss info is taken from different parts of the stakoverflow answers.\n",
    "# this is used to understand to find the optimal clusters in differen way rather than used in BOW, TFIDF\n",
    "squared_errors = []\n",
    "for cluster in num_clus:\n",
    "    kmeans = KMeans(n_clusters = cluster).fit(sent_vectors) # Train Cluster\n",
    "    squared_errors.append(kmeans.inertia_) # Appending the squared loss obtained in the list\n",
    "    \n",
    "optimal_clusters = np.argmin(squared_errors) + 2 # As argmin return the index of minimum loss. \n",
    "plt.plot(num_clus, squared_errors)\n",
    "plt.title(\"Elbow Curve to find the no. of clusters.\")\n",
    "plt.xlabel(\"Number of clusters.\")\n",
    "plt.ylabel(\"Squared Loss.\")\n",
    "xy = (optimal_clusters, min(squared_errors))\n",
    "plt.annotate('(%s, %s)' % xy, xy = xy, textcoords='data')\n",
    "plt.show()\n",
    "\n",
    "print (\"The optimal number of clusters obtained is - \", optimal_clusters)\n",
    "print (\"The loss for optimal cluster is - \", min(squared_errors))"
   ]
  },
  {
   "cell_type": "code",
   "execution_count": 57,
   "id": "044d104f",
   "metadata": {
    "execution": {
     "iopub.execute_input": "2022-10-26T09:18:52.454081Z",
     "iopub.status.busy": "2022-10-26T09:18:52.453731Z",
     "iopub.status.idle": "2022-10-26T09:19:17.079843Z",
     "shell.execute_reply": "2022-10-26T09:19:17.078806Z",
     "shell.execute_reply.started": "2022-10-26T09:18:52.454049Z"
    },
    "papermill": {
     "duration": null,
     "end_time": null,
     "exception": null,
     "start_time": null,
     "status": "pending"
    },
    "tags": []
   },
   "outputs": [
    {
     "data": {
      "text/plain": [
       "KMeans(n_clusters=9)"
      ]
     },
     "execution_count": 57,
     "metadata": {},
     "output_type": "execute_result"
    }
   ],
   "source": [
    "# Training the best model --\n",
    "from sklearn.cluster import KMeans\n",
    "model2 = KMeans(n_clusters = optimal_clusters)\n",
    "model2.fit(sent_vectors)"
   ]
  },
  {
   "cell_type": "code",
   "execution_count": 58,
   "id": "7621cf75",
   "metadata": {
    "execution": {
     "iopub.execute_input": "2022-10-26T09:19:17.081534Z",
     "iopub.status.busy": "2022-10-26T09:19:17.081213Z",
     "iopub.status.idle": "2022-10-26T09:19:17.362580Z",
     "shell.execute_reply": "2022-10-26T09:19:17.360658Z",
     "shell.execute_reply.started": "2022-10-26T09:19:17.081505Z"
    },
    "papermill": {
     "duration": null,
     "end_time": null,
     "exception": null,
     "start_time": null,
     "status": "pending"
    },
    "tags": []
   },
   "outputs": [],
   "source": [
    "word_cluster_pred=model2.predict(sent_vectors)\n",
    "word_cluster_pred_2=model2.labels_\n",
    "word_cluster_center=model2.cluster_centers_"
   ]
  },
  {
   "cell_type": "code",
   "execution_count": 59,
   "id": "a40358e2",
   "metadata": {
    "execution": {
     "iopub.status.busy": "2022-10-26T09:06:45.003483Z",
     "iopub.status.idle": "2022-10-26T09:06:45.003909Z",
     "shell.execute_reply": "2022-10-26T09:06:45.003728Z",
     "shell.execute_reply.started": "2022-10-26T09:06:45.003679Z"
    },
    "papermill": {
     "duration": null,
     "end_time": null,
     "exception": null,
     "start_time": null,
     "status": "pending"
    },
    "tags": []
   },
   "outputs": [
    {
     "data": {
      "text/plain": [
       "array([[ 0.15251948, -0.41832125, -0.19050577, -0.52653976, -0.15903646,\n",
       "         0.21667679,  0.00722519, -1.01976214,  0.05962628,  0.25945308,\n",
       "         0.52211073,  0.30138975, -0.4403048 , -0.316137  , -0.58157505,\n",
       "         0.23133526, -0.30062571, -0.32480355,  0.31609182,  1.09520505,\n",
       "        -0.07810814, -0.40103845, -0.4683024 ,  0.37298014, -0.02489108,\n",
       "         0.04432019,  0.65845446,  1.0030659 ,  0.35043859,  0.29754366,\n",
       "         0.01970572, -0.1764859 , -0.27529041, -0.38645687, -0.24938351,\n",
       "        -1.12342262,  0.2880806 , -0.13939865,  0.46150343,  0.37830345,\n",
       "        -0.47678749,  0.20099577, -0.32601752,  0.21969437,  0.07189355,\n",
       "         0.42826009,  0.34056367,  0.39411466, -0.1684496 , -0.08492685,\n",
       "         0.2251376 ,  0.23398275, -0.22259818,  0.03116284, -0.19123434,\n",
       "        -0.11553995,  0.07802882,  0.15805709,  0.38385645,  0.18765992,\n",
       "        -0.30334838,  0.31706381, -0.46067785, -0.22092163,  0.30021838,\n",
       "        -0.10276712,  0.08529956,  0.05376149,  0.22032134, -0.38499731,\n",
       "        -0.29046522, -0.40468787, -0.19808037,  0.112885  , -0.47550304,\n",
       "        -0.68712558, -0.13357657, -0.25255949,  0.48017257, -0.14380042,\n",
       "        -0.33216729,  0.06466413,  0.36983182, -0.38354083,  0.18834314,\n",
       "        -0.3438268 , -0.45607683,  0.03098778, -0.41798827, -0.10426375,\n",
       "        -0.9191211 , -0.18170285,  0.21935193, -0.31423151, -0.16612115,\n",
       "        -0.11049072,  0.41392324,  0.300985  , -0.10651887,  0.41197595]])"
      ]
     },
     "execution_count": 59,
     "metadata": {},
     "output_type": "execute_result"
    }
   ],
   "source": [
    "word_cluster_center[1:2]"
   ]
  },
  {
   "cell_type": "code",
   "execution_count": 60,
   "id": "5baf6e3d",
   "metadata": {
    "execution": {
     "iopub.execute_input": "2022-10-26T09:19:17.367577Z",
     "iopub.status.busy": "2022-10-26T09:19:17.365944Z",
     "iopub.status.idle": "2022-10-26T09:19:17.395104Z",
     "shell.execute_reply": "2022-10-26T09:19:17.393926Z",
     "shell.execute_reply.started": "2022-10-26T09:19:17.367524Z"
    },
    "papermill": {
     "duration": null,
     "end_time": null,
     "exception": null,
     "start_time": null,
     "status": "pending"
    },
    "tags": []
   },
   "outputs": [
    {
     "name": "stderr",
     "output_type": "stream",
     "text": [
      "/var/folders/1d/1ltz4mh92w75fs8jnyghsh900000gn/T/ipykernel_84520/2239402926.py:3: SettingWithCopyWarning: \n",
      "A value is trying to be set on a copy of a slice from a DataFrame.\n",
      "Try using .loc[row_indexer,col_indexer] = value instead\n",
      "\n",
      "See the caveats in the documentation: https://pandas.pydata.org/pandas-docs/stable/user_guide/indexing.html#returning-a-view-versus-a-copy\n",
      "  dfa['AVG-W2V Clus Label'] = model2.labels_\n"
     ]
    },
    {
     "data": {
      "text/html": [
       "<div>\n",
       "<style scoped>\n",
       "    .dataframe tbody tr th:only-of-type {\n",
       "        vertical-align: middle;\n",
       "    }\n",
       "\n",
       "    .dataframe tbody tr th {\n",
       "        vertical-align: top;\n",
       "    }\n",
       "\n",
       "    .dataframe thead th {\n",
       "        text-align: right;\n",
       "    }\n",
       "</style>\n",
       "<table border=\"1\" class=\"dataframe\">\n",
       "  <thead>\n",
       "    <tr style=\"text-align: right;\">\n",
       "      <th></th>\n",
       "      <th>Unnamed: 0</th>\n",
       "      <th>title</th>\n",
       "      <th>abstract</th>\n",
       "      <th>CleanedAbstract</th>\n",
       "      <th>CleanedTitle</th>\n",
       "      <th>Bow Clus Label</th>\n",
       "      <th>Tfidf Clus Label</th>\n",
       "      <th>AVG-W2V Clus Label</th>\n",
       "    </tr>\n",
       "  </thead>\n",
       "  <tbody>\n",
       "    <tr>\n",
       "      <th>103604</th>\n",
       "      <td>103604</td>\n",
       "      <td>Compositional Hazard Analysis of UML Componen...</td>\n",
       "      <td>The general trend towards complex technical s...</td>\n",
       "      <td>general trend toward complex technic system em...</td>\n",
       "      <td>composit hazard analysi uml compon deploy model</td>\n",
       "      <td>4</td>\n",
       "      <td>7</td>\n",
       "      <td>4</td>\n",
       "    </tr>\n",
       "    <tr>\n",
       "      <th>36275</th>\n",
       "      <td>36275</td>\n",
       "      <td>Dynamic Contract Layers</td>\n",
       "      <td>Design by Contract (DBC) is a programming tech...</td>\n",
       "      <td>design contract dbc program techniqu separ con...</td>\n",
       "      <td>dynam contract layer</td>\n",
       "      <td>6</td>\n",
       "      <td>5</td>\n",
       "      <td>4</td>\n",
       "    </tr>\n",
       "  </tbody>\n",
       "</table>\n",
       "</div>"
      ],
      "text/plain": [
       "        Unnamed: 0                                              title  \\\n",
       "103604      103604   Compositional Hazard Analysis of UML Componen...   \n",
       "36275        36275                           Dynamic Contract Layers    \n",
       "\n",
       "                                                 abstract  \\\n",
       "103604   The general trend towards complex technical s...   \n",
       "36275   Design by Contract (DBC) is a programming tech...   \n",
       "\n",
       "                                          CleanedAbstract  \\\n",
       "103604  general trend toward complex technic system em...   \n",
       "36275   design contract dbc program techniqu separ con...   \n",
       "\n",
       "                                           CleanedTitle  Bow Clus Label  \\\n",
       "103604  composit hazard analysi uml compon deploy model               4   \n",
       "36275                              dynam contract layer               6   \n",
       "\n",
       "        Tfidf Clus Label  AVG-W2V Clus Label  \n",
       "103604                 7                   4  \n",
       "36275                  5                   4  "
      ]
     },
     "execution_count": 60,
     "metadata": {},
     "output_type": "execute_result"
    }
   ],
   "source": [
    "# Giving Labels/assigning a cluster to each point/text \n",
    "dfa = df1\n",
    "dfa['AVG-W2V Clus Label'] = model2.labels_\n",
    "dfa.head(2)"
   ]
  },
  {
   "cell_type": "code",
   "execution_count": 61,
   "id": "a46d22e4",
   "metadata": {
    "execution": {
     "iopub.execute_input": "2022-10-26T09:19:17.397296Z",
     "iopub.status.busy": "2022-10-26T09:19:17.396578Z",
     "iopub.status.idle": "2022-10-26T09:19:17.522179Z",
     "shell.execute_reply": "2022-10-26T09:19:17.521113Z",
     "shell.execute_reply.started": "2022-10-26T09:19:17.397254Z"
    },
    "papermill": {
     "duration": null,
     "end_time": null,
     "exception": null,
     "start_time": null,
     "status": "pending"
    },
    "tags": []
   },
   "outputs": [
    {
     "data": {
      "text/plain": [
       "AVG-W2V Clus Label\n",
       "0    29316\n",
       "1    37306\n",
       "2     1151\n",
       "3    26999\n",
       "4    36786\n",
       "5    16402\n",
       "6     1461\n",
       "7    31783\n",
       "8    23421\n",
       "Name: abstract, dtype: int64"
      ]
     },
     "execution_count": 61,
     "metadata": {},
     "output_type": "execute_result"
    }
   ],
   "source": [
    "# How many points belong to each cluster ->\n",
    "dfa.groupby(['AVG-W2V Clus Label'])['abstract'].count()"
   ]
  },
  {
   "cell_type": "code",
   "execution_count": 62,
   "id": "b2ed7531",
   "metadata": {
    "execution": {
     "iopub.execute_input": "2022-10-25T12:35:36.948373Z",
     "iopub.status.busy": "2022-10-25T12:35:36.947717Z",
     "iopub.status.idle": "2022-10-25T12:35:37.062364Z",
     "shell.execute_reply": "2022-10-25T12:35:37.059951Z",
     "shell.execute_reply.started": "2022-10-25T12:35:36.948329Z"
    },
    "papermill": {
     "duration": null,
     "end_time": null,
     "exception": null,
     "start_time": null,
     "status": "pending"
    },
    "tags": []
   },
   "outputs": [
    {
     "name": "stdout",
     "output_type": "stream",
     "text": [
      "A review of assigned to cluster  0\n",
      "----------------------------------------------------------------------\n",
      "103604     The general trend towards complex technical s...\n",
      "36275     Design by Contract (DBC) is a programming tech...\n",
      "297493     The model-driven software development paradig...\n",
      "65386      The model-driven engineering community has de...\n",
      "201515    In typical classification tasks, we seek a fun...\n",
      "                                ...                        \n",
      "211576    Many computer science departments are debating...\n",
      "153128    In this paper, an Hfrinfin/LPV observer to be ...\n",
      "271444    This paper studies the ℒ2 (mean-square) optima...\n",
      "217880    In this paper, the problem of ℓ1-induced contr...\n",
      "70057     A new stationary subdivision scheme is present...\n",
      "Name: abstract, Length: 204625, dtype: object\n",
      "\n",
      "\n",
      "103604     The general trend towards complex technical s...\n",
      "36275     Design by Contract (DBC) is a programming tech...\n",
      "297493     The model-driven software development paradig...\n",
      "65386      The model-driven engineering community has de...\n",
      "201515    In typical classification tasks, we seek a fun...\n",
      "                                ...                        \n",
      "52450     The remarkable processing capabilities of the ...\n",
      "293910    We introduce a continuous family of high order...\n",
      "297079    The adequacy of radial basis function neural n...\n",
      "159947    A neural network mosaic model was developed to...\n",
      "245081    Traditional neural network approaches for traf...\n",
      "Name: abstract, Length: 125661, dtype: object\n",
      "\n",
      "\n",
      "______________________________________________________________________\n",
      "A review of assigned to cluster  1\n",
      "----------------------------------------------------------------------\n",
      "103604     The general trend towards complex technical s...\n",
      "36275     Design by Contract (DBC) is a programming tech...\n",
      "297493     The model-driven software development paradig...\n",
      "65386      The model-driven engineering community has de...\n",
      "201515    In typical classification tasks, we seek a fun...\n",
      "                                ...                        \n",
      "227976    In many distributed computing environments, pr...\n",
      "227930    \\n We develop a generic framework for the anal...\n",
      "59007     Although manipulation and bribery have been ex...\n",
      "228740    Weighted extended tree transducers (wxtts) ove...\n",
      "58970     Dans cer article, nous introduisons une nouvel...\n",
      "Name: abstract, Length: 201515, dtype: object\n",
      "\n",
      "\n",
      "103604     The general trend towards complex technical s...\n",
      "36275     Design by Contract (DBC) is a programming tech...\n",
      "297493     The model-driven software development paradig...\n",
      "65386      The model-driven engineering community has de...\n",
      "201515    In typical classification tasks, we seek a fun...\n",
      "                                ...                        \n",
      "89398     To support a global virtual memory space, an a...\n",
      "132756    Software architecture description languages (A...\n",
      "201199    Abstract argument frameworks have been used fo...\n",
      "201019                                     Without Abstract\n",
      "55773     Technology's rapid advance is already leaving ...\n",
      "Name: abstract, Length: 121477, dtype: object\n",
      "\n",
      "\n",
      "______________________________________________________________________\n",
      "A review of assigned to cluster  2\n",
      "----------------------------------------------------------------------\n",
      "103604     The general trend towards complex technical s...\n",
      "36275     Design by Contract (DBC) is a programming tech...\n",
      "297493     The model-driven software development paradig...\n",
      "65386      The model-driven engineering community has de...\n",
      "201515    In typical classification tasks, we seek a fun...\n",
      "                                ...                        \n",
      "121299    Modern software applications ranging from ente...\n",
      "156297    We introduce a heuristic for automatically che...\n",
      "256689    Many context-aware applications exploit curren...\n",
      "195049    Computing reflective symmetries of 2D and 3D s...\n",
      "133005     . In this paper a very simple reflexive forma...\n",
      "Name: abstract, Length: 7216, dtype: object\n",
      "\n",
      "\n",
      "103604     The general trend towards complex technical s...\n",
      "36275     Design by Contract (DBC) is a programming tech...\n",
      "297493     The model-driven software development paradig...\n",
      "65386      The model-driven engineering community has de...\n",
      "201515    In typical classification tasks, we seek a fun...\n",
      "                                ...                        \n",
      "201025    We consider the problem of finding most balanc...\n",
      "292707    Enterprise social media can provide visibility...\n",
      "284251    Bridging the gap between animal or in vitro mo...\n",
      "198110    In this paper, we introduce a cognitive approa...\n",
      "198024    The central problem in machine learning (and s...\n",
      "Name: abstract, Length: 121253, dtype: object\n",
      "\n",
      "\n",
      "______________________________________________________________________\n",
      "A review of assigned to cluster  3\n",
      "----------------------------------------------------------------------\n",
      "103604     The general trend towards complex technical s...\n",
      "36275     Design by Contract (DBC) is a programming tech...\n",
      "297493     The model-driven software development paradig...\n",
      "65386      The model-driven engineering community has de...\n",
      "201515    In typical classification tasks, we seek a fun...\n",
      "                                ...                        \n",
      "131940    By penetrating into a large number of machines...\n",
      "151416     ment of methods forcreating knowledge bases b...\n",
      "64695     In the present paper we shall present a genera...\n",
      "85070     Most of the classical clustering algorithms ar...\n",
      "79701     In order to develop the service outsourcing in...\n",
      "Name: abstract, Length: 26024, dtype: object\n",
      "\n",
      "\n",
      "103604     The general trend towards complex technical s...\n",
      "36275     Design by Contract (DBC) is a programming tech...\n",
      "297493     The model-driven software development paradig...\n",
      "65386      The model-driven engineering community has de...\n",
      "201515    In typical classification tasks, we seek a fun...\n",
      "                                ...                        \n",
      "211576    Many computer science departments are debating...\n",
      "153128    In this paper, an Hfrinfin/LPV observer to be ...\n",
      "271444    This paper studies the ℒ2 (mean-square) optima...\n",
      "217880    In this paper, the problem of ℓ1-induced contr...\n",
      "70057     A new stationary subdivision scheme is present...\n",
      "Name: abstract, Length: 204625, dtype: object\n",
      "\n",
      "\n",
      "______________________________________________________________________\n",
      "A review of assigned to cluster  4\n",
      "----------------------------------------------------------------------\n",
      "103604     The general trend towards complex technical s...\n",
      "36275     Design by Contract (DBC) is a programming tech...\n",
      "297493     The model-driven software development paradig...\n",
      "65386      The model-driven engineering community has de...\n",
      "201515    In typical classification tasks, we seek a fun...\n",
      "                                ...                        \n",
      "116648    Mobile awareness systems provide user-controll...\n",
      "215668    Ionizing radiation can damage cells by breakin...\n",
      "31126     Concept sketches are popularly used by designe...\n",
      "31269     Semantic Web is challenged by the URI meaning ...\n",
      "76220     The dematerialisation of the document flows re...\n",
      "Name: abstract, Length: 103604, dtype: object\n",
      "\n",
      "\n",
      "103604     The general trend towards complex technical s...\n",
      "36275     Design by Contract (DBC) is a programming tech...\n",
      "297493     The model-driven software development paradig...\n",
      "65386      The model-driven engineering community has de...\n",
      "201515    In typical classification tasks, we seek a fun...\n",
      "                                ...                        \n",
      "277111    This paper presents a new methodology to conti...\n",
      "26214     We present a method to automatically repositio...\n",
      "283364    An automatic fruit recognition system and a re...\n",
      "190535    Music scholars have been studying tonal harmon...\n",
      "277077    This paper presents a fiducial marker system s...\n",
      "Name: abstract, Length: 36275, dtype: object\n",
      "\n",
      "\n",
      "______________________________________________________________________\n",
      "A review of assigned to cluster  5\n",
      "----------------------------------------------------------------------\n",
      "103604     The general trend towards complex technical s...\n",
      "36275     Design by Contract (DBC) is a programming tech...\n",
      "297493     The model-driven software development paradig...\n",
      "65386      The model-driven engineering community has de...\n",
      "201515    In typical classification tasks, we seek a fun...\n",
      "                                ...                        \n",
      "81861     Tracking and recognizing people are essential ...\n",
      "56005     Multisensor data fusion is a key enabling tech...\n",
      "56140     The paper describes an advanced multisensor de...\n",
      "143742    A mission of chemical plume tracing (CPT) is t...\n",
      "201417    With the growing deployment of multisensor fus...\n",
      "Name: abstract, Length: 123647, dtype: object\n",
      "\n",
      "\n",
      "103604     The general trend towards complex technical s...\n",
      "36275     Design by Contract (DBC) is a programming tech...\n",
      "297493     The model-driven software development paradig...\n",
      "65386      The model-driven engineering community has de...\n",
      "201515    In typical classification tasks, we seek a fun...\n",
      "                                ...                        \n",
      "37347     Email List Services (or simply, mailing lists)...\n",
      "94718     Proof-Carrying Code (PCC) is a generic framewo...\n",
      "167254    We present a certified algorithm for resource ...\n",
      "165674    Self-modifying code (SMC), in this paper, broa...\n",
      "8424      Only if the programmer can prove (through form...\n",
      "Name: abstract, Length: 44107, dtype: object\n",
      "\n",
      "\n",
      "______________________________________________________________________\n",
      "A review of assigned to cluster  6\n",
      "----------------------------------------------------------------------\n",
      "103604     The general trend towards complex technical s...\n",
      "36275     Design by Contract (DBC) is a programming tech...\n",
      "297493     The model-driven software development paradig...\n",
      "65386      The model-driven engineering community has de...\n",
      "201515    In typical classification tasks, we seek a fun...\n",
      "                                ...                        \n",
      "212586    This talk will try to frame JML in two senses....\n",
      "172378    An anomaly detection procedure is defined and ...\n",
      "286273    The availability of cheap and smart wireless s...\n",
      "14477     Provides an abstract for each of the two invit...\n",
      "14478     Ontologies and ontology based systems are rapi...\n",
      "Name: abstract, Length: 104793, dtype: object\n",
      "\n",
      "\n",
      "103604     The general trend towards complex technical s...\n",
      "36275     Design by Contract (DBC) is a programming tech...\n",
      "297493     The model-driven software development paradig...\n",
      "65386      The model-driven engineering community has de...\n",
      "201515    In typical classification tasks, we seek a fun...\n",
      "                                ...                        \n",
      "211576    Many computer science departments are debating...\n",
      "153128    In this paper, an Hfrinfin/LPV observer to be ...\n",
      "271444    This paper studies the ℒ2 (mean-square) optima...\n",
      "217880    In this paper, the problem of ℓ1-induced contr...\n",
      "70057     A new stationary subdivision scheme is present...\n",
      "Name: abstract, Length: 204625, dtype: object\n",
      "\n",
      "\n",
      "______________________________________________________________________\n",
      "A review of assigned to cluster  7\n",
      "----------------------------------------------------------------------\n",
      "103604     The general trend towards complex technical s...\n",
      "36275     Design by Contract (DBC) is a programming tech...\n",
      "297493     The model-driven software development paradig...\n",
      "65386      The model-driven engineering community has de...\n",
      "201515    In typical classification tasks, we seek a fun...\n",
      "                                ...                        \n",
      "211576    Many computer science departments are debating...\n",
      "153128    In this paper, an Hfrinfin/LPV observer to be ...\n",
      "271444    This paper studies the ℒ2 (mean-square) optima...\n",
      "217880    In this paper, the problem of ℓ1-induced contr...\n",
      "70057     A new stationary subdivision scheme is present...\n",
      "Name: abstract, Length: 204625, dtype: object\n",
      "\n",
      "\n",
      "103604     The general trend towards complex technical s...\n",
      "36275     Design by Contract (DBC) is a programming tech...\n",
      "297493     The model-driven software development paradig...\n",
      "65386      The model-driven engineering community has de...\n",
      "201515    In typical classification tasks, we seek a fun...\n",
      "                                ...                        \n",
      "211576    Many computer science departments are debating...\n",
      "153128    In this paper, an Hfrinfin/LPV observer to be ...\n",
      "271444    This paper studies the ℒ2 (mean-square) optima...\n",
      "217880    In this paper, the problem of ℓ1-induced contr...\n",
      "70057     A new stationary subdivision scheme is present...\n",
      "Name: abstract, Length: 204625, dtype: object\n",
      "\n",
      "\n",
      "______________________________________________________________________\n",
      "A review of assigned to cluster  8\n",
      "----------------------------------------------------------------------\n",
      "103604     The general trend towards complex technical s...\n",
      "36275     Design by Contract (DBC) is a programming tech...\n",
      "297493     The model-driven software development paradig...\n",
      "65386      The model-driven engineering community has de...\n",
      "201515    In typical classification tasks, we seek a fun...\n",
      "                                ...                        \n",
      "211576    Many computer science departments are debating...\n",
      "153128    In this paper, an Hfrinfin/LPV observer to be ...\n",
      "271444    This paper studies the ℒ2 (mean-square) optima...\n",
      "217880    In this paper, the problem of ℓ1-induced contr...\n",
      "70057     A new stationary subdivision scheme is present...\n",
      "Name: abstract, Length: 204625, dtype: object\n",
      "\n",
      "\n",
      "103604     The general trend towards complex technical s...\n",
      "36275     Design by Contract (DBC) is a programming tech...\n",
      "297493     The model-driven software development paradig...\n",
      "65386      The model-driven engineering community has de...\n",
      "201515    In typical classification tasks, we seek a fun...\n",
      "                                ...                        \n",
      "113831    In this paper, we propose embedded face recogn...\n",
      "39629     A new approach for separating mathematics from...\n",
      "185549    The human visual system (HVS) is highly space-...\n",
      "39586     A low-level graphics processor is assembled fr...\n",
      "185235    Face detection is the first step towards face ...\n",
      "Name: abstract, Length: 73210, dtype: object\n",
      "\n",
      "\n",
      "______________________________________________________________________\n"
     ]
    }
   ],
   "source": [
    "# Reading a review which belong to each group.\n",
    "for i in range(optimal_clusters):\n",
    "    print(\"A review of assigned to cluster \", i)\n",
    "    print(\"-\" * 70)\n",
    "    print(dfa.iloc[:dfa.groupby(['AVG-W2V Clus Label']).groups[i][0]]['abstract'])\n",
    "    print('\\n')\n",
    "    print(dfa.iloc[:dfa.groupby(['AVG-W2V Clus Label']).groups[i][1]]['abstract'])\n",
    "    print('\\n')\n",
    "    print(\"_\" * 70)"
   ]
  },
  {
   "cell_type": "code",
   "execution_count": 63,
   "id": "b60ecb59",
   "metadata": {
    "execution": {
     "iopub.execute_input": "2022-10-26T09:19:17.523927Z",
     "iopub.status.busy": "2022-10-26T09:19:17.523590Z",
     "iopub.status.idle": "2022-10-26T09:19:17.528911Z",
     "shell.execute_reply": "2022-10-26T09:19:17.527833Z",
     "shell.execute_reply.started": "2022-10-26T09:19:17.523898Z"
    },
    "papermill": {
     "duration": null,
     "end_time": null,
     "exception": null,
     "start_time": null,
     "status": "pending"
    },
    "tags": []
   },
   "outputs": [],
   "source": [
    "from sklearn.cluster import DBSCAN"
   ]
  },
  {
   "cell_type": "code",
   "execution_count": 64,
   "id": "74113de4",
   "metadata": {
    "execution": {
     "iopub.execute_input": "2022-10-26T09:19:17.530582Z",
     "iopub.status.busy": "2022-10-26T09:19:17.530260Z",
     "iopub.status.idle": "2022-10-26T09:19:17.540517Z",
     "shell.execute_reply": "2022-10-26T09:19:17.539565Z",
     "shell.execute_reply.started": "2022-10-26T09:19:17.530553Z"
    },
    "papermill": {
     "duration": null,
     "end_time": null,
     "exception": null,
     "start_time": null,
     "status": "pending"
    },
    "tags": []
   },
   "outputs": [],
   "source": [
    "# Computing 200th Nearest neighbour distance\n",
    "minPts = 2 * 100\n",
    "# Lower bound function copied from -> https://gist.github.com/m00nlight/0f9306b4d4e61ba0195f\n",
    "def lower_bound(nums, target): # This function return the number in the array just greater than or equal to itself.\n",
    "    l, r = 0, len(nums) - 1\n",
    "    while l <= r: # Binary searching.\n",
    "        mid = int(l + (r - l) / 2)\n",
    "        if nums[mid] >= target:\n",
    "            r = mid - 1\n",
    "        else:\n",
    "            l = mid + 1\n",
    "    return l\n",
    "\n",
    "def compute200thnearestneighbour(x, data): # Returns the distance of 200th nearest neighbour.\n",
    "    dists = []\n",
    "    for val in data:\n",
    "        dist = np.sum((x - val) **2 ) # computing distances.\n",
    "        if(len(dists) == 200 and dists[199] > dist): # If distance is larger than current largest distance found.\n",
    "            l = int(lower_bound(dists, dist)) # Using the lower bound function to get the right position.\n",
    "            if l < 200 and l >= 0 and dists[l] > dist:\n",
    "                dists[l] = dist\n",
    "        else:\n",
    "            dists.append(dist)\n",
    "            dists.sort()\n",
    "    \n",
    "    return dists[199] # Dist 199 contains the distance of 200th nearest neighbour."
   ]
  },
  {
   "cell_type": "code",
   "execution_count": 65,
   "id": "9391a029",
   "metadata": {
    "execution": {
     "iopub.execute_input": "2022-10-26T09:19:17.546139Z",
     "iopub.status.busy": "2022-10-26T09:19:17.545714Z",
     "iopub.status.idle": "2022-10-26T09:20:04.753326Z",
     "shell.execute_reply": "2022-10-26T09:20:04.752099Z",
     "shell.execute_reply.started": "2022-10-26T09:19:17.546109Z"
    },
    "papermill": {
     "duration": null,
     "end_time": null,
     "exception": null,
     "start_time": null,
     "status": "pending"
    },
    "tags": []
   },
   "outputs": [],
   "source": [
    "# Computing the 200th nearest neighbour distance of some point the dataset:\n",
    "twohundrethneigh = []\n",
    "for val in sent_vectors[:1500]:\n",
    "    twohundrethneigh.append( compute200thnearestneighbour(val, sent_vectors[:1500]) )\n",
    "twohundrethneigh.sort()"
   ]
  },
  {
   "cell_type": "code",
   "execution_count": 66,
   "id": "c6aa9249",
   "metadata": {
    "execution": {
     "iopub.execute_input": "2022-10-26T09:20:04.756182Z",
     "iopub.status.busy": "2022-10-26T09:20:04.755836Z",
     "iopub.status.idle": "2022-10-26T09:20:04.968221Z",
     "shell.execute_reply": "2022-10-26T09:20:04.967072Z",
     "shell.execute_reply.started": "2022-10-26T09:20:04.756151Z"
    },
    "papermill": {
     "duration": null,
     "end_time": null,
     "exception": null,
     "start_time": null,
     "status": "pending"
    },
    "tags": []
   },
   "outputs": [
    {
     "data": {
      "image/png": "[encoded data removed]",
      "text/plain": [
       "<Figure size 1400x400 with 1 Axes>"
      ]
     },
     "metadata": {},
     "output_type": "display_data"
    }
   ],
   "source": [
    "# Plotting for the Elbow Method :\n",
    "plt.figure(figsize=(14,4))\n",
    "plt.title(\"Elbow Method for Finding the right Eps hyperparameter\")\n",
    "plt.plot([x for x in range(len(twohundrethneigh))], twohundrethneigh)\n",
    "plt.xlabel(\"Number of points\")\n",
    "plt.ylabel(\"Distance of 200th Nearest Neighbour\")\n",
    "plt.show()"
   ]
  },
  {
   "cell_type": "code",
   "execution_count": 1,
   "id": "af9972e4",
   "metadata": {
    "execution": {
     "iopub.execute_input": "2022-10-25T12:47:07.418843Z",
     "iopub.status.busy": "2022-10-25T12:47:07.417781Z",
     "iopub.status.idle": "2022-10-25T12:47:07.486209Z",
     "shell.execute_reply": "2022-10-25T12:47:07.484253Z",
     "shell.execute_reply.started": "2022-10-25T12:47:07.418796Z"
    },
    "papermill": {
     "duration": null,
     "end_time": null,
     "exception": null,
     "start_time": null,
     "status": "pending"
    },
    "tags": []
   },
   "outputs": [
    {
     "ename": "NameError",
     "evalue": "name 'DBSCAN' is not defined",
     "output_type": "error",
     "traceback": [
      "\u001b[0;31m---------------------------------------------------------------------------\u001b[0m",
      "\u001b[0;31mNameError\u001b[0m                                 Traceback (most recent call last)",
      "\u001b[0;32m/var/folders/1d/1ltz4mh92w75fs8jnyghsh900000gn/T/ipykernel_89561/4126682911.py\u001b[0m in \u001b[0;36m<module>\u001b[0;34m\u001b[0m\n\u001b[1;32m      1\u001b[0m \u001b[0;31m# Training DBSCAN :\u001b[0m\u001b[0;34m\u001b[0m\u001b[0;34m\u001b[0m\u001b[0m\n\u001b[0;32m----> 2\u001b[0;31m \u001b[0mmodel\u001b[0m \u001b[0;34m=\u001b[0m \u001b[0mDBSCAN\u001b[0m\u001b[0;34m(\u001b[0m\u001b[0meps\u001b[0m \u001b[0;34m=\u001b[0m \u001b[0;36m5\u001b[0m\u001b[0;34m,\u001b[0m \u001b[0mmin_samples\u001b[0m \u001b[0;34m=\u001b[0m \u001b[0mminPts\u001b[0m\u001b[0;34m,\u001b[0m \u001b[0mn_jobs\u001b[0m\u001b[0;34m=\u001b[0m\u001b[0;34m-\u001b[0m\u001b[0;36m1\u001b[0m\u001b[0;34m)\u001b[0m\u001b[0;34m\u001b[0m\u001b[0;34m\u001b[0m\u001b[0m\n\u001b[0m\u001b[1;32m      3\u001b[0m \u001b[0mmodel\u001b[0m\u001b[0;34m.\u001b[0m\u001b[0mfit\u001b[0m\u001b[0;34m(\u001b[0m\u001b[0msent_vectors\u001b[0m\u001b[0;34m)\u001b[0m\u001b[0;34m\u001b[0m\u001b[0;34m\u001b[0m\u001b[0m\n",
      "\u001b[0;31mNameError\u001b[0m: name 'DBSCAN' is not defined"
     ]
    }
   ],
   "source": [
    "# Training DBSCAN :\n",
    "model = DBSCAN(eps = 5, min_samples = minPts, n_jobs=-1)\n",
    "model.fit(sent_vectors)"
   ]
  },
  {
   "cell_type": "code",
   "execution_count": null,
   "id": "6ce41497",
   "metadata": {
    "papermill": {
     "duration": null,
     "end_time": null,
     "exception": null,
     "start_time": null,
     "status": "pending"
    },
    "tags": []
   },
   "outputs": [],
   "source": [
    "dfdb = dfa\n",
    "dfdb['AVG-W2V Clus Label'] = model.labels_\n",
    "dfdb.head(2)"
   ]
  },
  {
   "cell_type": "code",
   "execution_count": null,
   "id": "1303b97e",
   "metadata": {
    "papermill": {
     "duration": null,
     "end_time": null,
     "exception": null,
     "start_time": null,
     "status": "pending"
    },
    "tags": []
   },
   "outputs": [],
   "source": [
    "dfdb = dfa\n",
    "dfdb['AVG-W2V Clus Label'] = model.labels_\n",
    "dfdb.head(2)"
   ]
  },
  {
   "cell_type": "markdown",
   "id": "132682a7",
   "metadata": {
    "papermill": {
     "duration": null,
     "end_time": null,
     "exception": null,
     "start_time": null,
     "status": "pending"
    },
    "tags": []
   },
   "source": [
    "Clustering Hierarchical"
   ]
  },
  {
   "cell_type": "code",
   "execution_count": null,
   "id": "324d9383",
   "metadata": {
    "papermill": {
     "duration": null,
     "end_time": null,
     "exception": null,
     "start_time": null,
     "status": "pending"
    },
    "tags": []
   },
   "outputs": [],
   "source": [
    "import scipy\n",
    "from scipy.cluster import hierarchy\n",
    "dendro=hierarchy.dendrogram(hierarchy.linkage(sent_vectors,method='ward'))\n",
    "plt.axhline(y=35)# cut at 30 to get 5 clusters"
   ]
  },
  {
   "cell_type": "code",
   "execution_count": null,
   "id": "9840632f",
   "metadata": {
    "papermill": {
     "duration": null,
     "end_time": null,
     "exception": null,
     "start_time": null,
     "status": "pending"
    },
    "tags": []
   },
   "outputs": [],
   "source": [
    "from sklearn.cluster import AgglomerativeClustering\n",
    "\n",
    "cluster = AgglomerativeClustering(n_clusters=5, affinity='euclidean', linkage='ward')  #took n=5 from dendrogram curve \n",
    "Agg=cluster.fit_predict(sent_vectors)"
   ]
  },
  {
   "cell_type": "code",
   "execution_count": null,
   "id": "9c1b756f",
   "metadata": {
    "papermill": {
     "duration": null,
     "end_time": null,
     "exception": null,
     "start_time": null,
     "status": "pending"
    },
    "tags": []
   },
   "outputs": [],
   "source": [
    "# Giving Labels/assigning a cluster to each point/text \n",
    "aggdfa = dfdb\n",
    "aggdfa['AVG-W2V Clus Label'] = cluster.labels_\n",
    "aggdfa.head(2)"
   ]
  },
  {
   "cell_type": "code",
   "execution_count": null,
   "id": "a9250c41",
   "metadata": {
    "papermill": {
     "duration": null,
     "end_time": null,
     "exception": null,
     "start_time": null,
     "status": "pending"
    },
    "tags": []
   },
   "outputs": [],
   "source": [
    "# How many points belong to each cluster ->\n",
    "aggdfa.groupby(['AVG-W2V Clus Label'])['Text'].count()"
   ]
  },
  {
   "cell_type": "code",
   "execution_count": null,
   "id": "6ef35cb7",
   "metadata": {},
   "outputs": [],
   "source": []
  }
 ],
 "metadata": {
  "kernelspec": {
   "display_name": "Python 3 (ipykernel)",
   "language": "python",
   "name": "python3"
  },
  "language_info": {
   "codemirror_mode": {
    "name": "ipython",
    "version": 3
   },
   "file_extension": ".py",
   "mimetype": "text/x-python",
   "name": "python",
   "nbconvert_exporter": "python",
   "pygments_lexer": "ipython3",
   "version": "3.9.6"
  },
  "papermill": {
   "default_parameters": {},
   "duration": 3570.355034,
   "end_time": "2022-10-26T10:46:34.836197",
   "environment_variables": {},
   "exception": true,
   "input_path": "__notebook__.ipynb",
   "output_path": "__notebook__.ipynb",
   "parameters": {},
   "start_time": "2022-10-26T09:47:04.481163",
   "version": "2.3.4"
  },
  "vscode": {
   "interpreter": {
    "hash": "31f2aee4e71d21fbe5cf8b01ff0e069b9275f58929596ceb00d14d90e3e16cd6"
   }
  }
 },
 "nbformat": 4,
 "nbformat_minor": 5
}
